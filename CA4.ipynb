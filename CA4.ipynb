{
  "nbformat": 4,
  "nbformat_minor": 0,
  "metadata": {
    "colab": {
      "name": "CA4.ipynb",
      "version": "0.3.2",
      "provenance": [],
      "collapsed_sections": [],
      "toc_visible": true
    },
    "kernelspec": {
      "name": "python3",
      "display_name": "Python 3"
    },
    "accelerator": "GPU"
  },
  "cells": [
    {
      "cell_type": "markdown",
      "metadata": {
        "id": "nj70mFf3nkL1",
        "colab_type": "text"
      },
      "source": [
        "# CA4 Report\n",
        "Mohammad Hosein Moti Birjandi - 810194472"
      ]
    },
    {
      "cell_type": "code",
      "metadata": {
        "id": "T7GxEnGCwu0V",
        "colab_type": "code",
        "outputId": "7f19f238-e60a-4369-ec43-b6184b6d5844",
        "colab": {
          "base_uri": "https://localhost:8080/",
          "height": 122
        }
      },
      "source": [
        "!pip install torchvision"
      ],
      "execution_count": 0,
      "outputs": [
        {
          "output_type": "stream",
          "text": [
            "Requirement already satisfied: torchvision in /usr/local/lib/python3.6/dist-packages (0.3.0)\n",
            "Requirement already satisfied: pillow>=4.1.1 in /usr/local/lib/python3.6/dist-packages (from torchvision) (4.3.0)\n",
            "Requirement already satisfied: torch>=1.1.0 in /usr/local/lib/python3.6/dist-packages (from torchvision) (1.1.0)\n",
            "Requirement already satisfied: six in /usr/local/lib/python3.6/dist-packages (from torchvision) (1.12.0)\n",
            "Requirement already satisfied: numpy in /usr/local/lib/python3.6/dist-packages (from torchvision) (1.16.4)\n",
            "Requirement already satisfied: olefile in /usr/local/lib/python3.6/dist-packages (from pillow>=4.1.1->torchvision) (0.46)\n"
          ],
          "name": "stdout"
        }
      ]
    },
    {
      "cell_type": "code",
      "metadata": {
        "id": "bNW9heZLrNR0",
        "colab_type": "code",
        "colab": {}
      },
      "source": [
        "import torch\n",
        "import torchvision\n",
        "import torchvision.transforms as transforms\n",
        "import torch.nn as nn\n",
        "import torch.nn.functional as F\n",
        "import torch.optim as optim\n",
        "import time"
      ],
      "execution_count": 0,
      "outputs": []
    },
    {
      "cell_type": "markdown",
      "metadata": {
        "id": "3MhK3PfL0C-6",
        "colab_type": "text"
      },
      "source": [
        "# Loading CIFAR10\n",
        "In this section we will use torchvision datasets to load CIFAR10 dataset ."
      ]
    },
    {
      "cell_type": "markdown",
      "metadata": {
        "id": "m2ggrAscNAn2",
        "colab_type": "text"
      },
      "source": [
        "## Loading Raw Data"
      ]
    },
    {
      "cell_type": "code",
      "metadata": {
        "id": "eXcTx4tNI9kr",
        "colab_type": "code",
        "outputId": "f9aa1819-f8a0-42a7-8c2d-c856ed75c3b7",
        "colab": {
          "base_uri": "https://localhost:8080/",
          "height": 52
        }
      },
      "source": [
        "transform = transforms.ToTensor()\n",
        "trainset = torchvision.datasets.CIFAR10(root='./data', train=True,\n",
        "                                        download=True, transform=transform)\n",
        "trainloader = torch.utils.data.DataLoader(trainset, batch_size=32,\n",
        "                                          shuffle=True, num_workers=4)\n",
        "\n",
        "testset = torchvision.datasets.CIFAR10(root='./data', train=False,\n",
        "                                       download=True, transform=transform)\n",
        "testloader = torch.utils.data.DataLoader(testset, batch_size=32,\n",
        "                                         shuffle=False, num_workers=4)\n",
        "\n",
        "classes = ('plane', 'car', 'bird', 'cat',\n",
        "           'deer', 'dog', 'frog', 'horse', 'ship', 'truck')"
      ],
      "execution_count": 0,
      "outputs": [
        {
          "output_type": "stream",
          "text": [
            "Files already downloaded and verified\n",
            "Files already downloaded and verified\n"
          ],
          "name": "stdout"
        }
      ]
    },
    {
      "cell_type": "markdown",
      "metadata": {
        "id": "pDz2j2YFNIp2",
        "colab_type": "text"
      },
      "source": [
        "## Loading Normalized Data\n",
        "As mentioned in pytorch documents the output of torchvision datasets are PILImage images of range [0, 1].\n",
        "We transform them to Tensors of normalized range [-1, 1]. Tensor is a multidimensional array like numpy array used in **PyTorch**."
      ]
    },
    {
      "cell_type": "code",
      "metadata": {
        "id": "U_pmS5Z4rQZF",
        "colab_type": "code",
        "outputId": "cbb58fd2-5305-4614-b046-1cacde1078c7",
        "colab": {
          "base_uri": "https://localhost:8080/",
          "height": 52
        }
      },
      "source": [
        "transform = transforms.Compose(\n",
        "    [transforms.ToTensor(),\n",
        "     transforms.Normalize((0.5, 0.5, 0.5), (0.5, 0.5, 0.5))])\n",
        "\n",
        "norm_trainset = torchvision.datasets.CIFAR10(root='./data', train=True,\n",
        "                                        download=True, transform=transform)\n",
        "norm_trainloader = torch.utils.data.DataLoader(norm_trainset, batch_size=32,\n",
        "                                          shuffle=True, num_workers=4)\n",
        "\n",
        "norm_testset = torchvision.datasets.CIFAR10(root='./data', train=False,\n",
        "                                       download=True, transform=transform)\n",
        "norm_testloader = torch.utils.data.DataLoader(norm_testset, batch_size=32,\n",
        "                                         shuffle=False, num_workers=4)\n",
        "\n",
        "classes = ('plane', 'car', 'bird', 'cat',\n",
        "           'deer', 'dog', 'frog', 'horse', 'ship', 'truck')"
      ],
      "execution_count": 0,
      "outputs": [
        {
          "output_type": "stream",
          "text": [
            "Files already downloaded and verified\n",
            "Files already downloaded and verified\n"
          ],
          "name": "stdout"
        }
      ]
    },
    {
      "cell_type": "markdown",
      "metadata": {
        "id": "gnyPB7qg2MOr",
        "colab_type": "text"
      },
      "source": [
        "# Visualizing CIFAR10 Samples\n",
        "In this section we will visualize some CIFAR10 samples so we can verify data loaded correctly."
      ]
    },
    {
      "cell_type": "code",
      "metadata": {
        "id": "mIBGCBH125Qj",
        "colab_type": "code",
        "colab": {}
      },
      "source": [
        "import matplotlib.pyplot as plt\n",
        "import numpy as np"
      ],
      "execution_count": 0,
      "outputs": []
    },
    {
      "cell_type": "code",
      "metadata": {
        "id": "ora-LPLSz_RB",
        "colab_type": "code",
        "colab": {}
      },
      "source": [
        "def imshow(img):\n",
        "    img = img / 2 + 0.5     # unnormalize\n",
        "    npimg = img.numpy()\n",
        "    plt.imshow(np.transpose(npimg, (1, 2, 0)))"
      ],
      "execution_count": 0,
      "outputs": []
    },
    {
      "cell_type": "code",
      "metadata": {
        "id": "aklCoLPE2-zw",
        "colab_type": "code",
        "outputId": "505f95da-33fc-4f16-9369-e99fcbfeba65",
        "colab": {
          "base_uri": "https://localhost:8080/",
          "height": 255
        }
      },
      "source": [
        "# get images of first batch for visualization\n",
        "dataiter = iter(norm_trainloader)\n",
        "images, labels = dataiter.next()\n",
        "img = torchvision.utils.make_grid(images)\n",
        "#as we applied a transform to images and normalized them, we need to unnormalize the images.\n",
        "img = img/2+0.5\n",
        "npimg = img.numpy()\n",
        "plt.imshow(np.transpose(npimg, (1, 2, 0)))\n",
        "print('list of first batch images labels:')\n",
        "print(' '.join('%5s' % classes[labels[j]] for j in range(32)))"
      ],
      "execution_count": 0,
      "outputs": [
        {
          "output_type": "stream",
          "text": [
            "list of first batch images labels:\n",
            " bird  frog plane   car  frog  bird horse horse  ship  deer plane horse   cat truck   car  bird  ship  bird  bird   dog   cat horse  bird   cat horse truck  deer horse   car  bird  ship  ship\n"
          ],
          "name": "stdout"
        },
        {
          "output_type": "display_data",
          "data": {
            "image/png": "[encoded data removed]",
            "text/plain": [
              "<Figure size 432x288 with 1 Axes>"
            ]
          },
          "metadata": {
            "tags": []
          }
        }
      ]
    },
    {
      "cell_type": "markdown",
      "metadata": {
        "id": "PqS2bu0iFvf5",
        "colab_type": "text"
      },
      "source": [
        "# Define Convolutional Neural Network\n"
      ]
    },
    {
      "cell_type": "markdown",
      "metadata": {
        "id": "IWa-xVR9WEni",
        "colab_type": "text"
      },
      "source": [
        "## 1."
      ]
    },
    {
      "cell_type": "markdown",
      "metadata": {
        "id": "ihchG_AUlUmn",
        "colab_type": "text"
      },
      "source": [
        "### Defining Convolutional Neural Network\n",
        "In this section we will define a CNN. with 3 hidden layers."
      ]
    },
    {
      "cell_type": "code",
      "metadata": {
        "id": "DBQZx6koS-xr",
        "colab_type": "code",
        "colab": {}
      },
      "source": [
        "class Net(nn.Module):\n",
        "\n",
        "    def __init__(self):\n",
        "        super(Net, self).__init__()\n",
        "        self.conv1 = nn.Conv2d(3, 12, 3)\n",
        "        self.conv2 = nn.Conv2d(12, 26, 3)\n",
        "        self.fc3 = nn.Linear(26*6*6, 10)\n",
        "\n",
        "    def forward(self, x):\n",
        "        x = F.max_pool2d(F.relu(self.conv1(x)), (2, 2))\n",
        "        x = F.max_pool2d(F.relu(self.conv2(x)), 2)\n",
        "        x = x.view(-1, self.num_flat_features(x))\n",
        "        x = self.fc3(x)\n",
        "        return x\n",
        "\n",
        "    def num_flat_features(self, x):\n",
        "        size = x.size()[1:]  # all dimensions except the batch dimension\n",
        "        num_features = 1\n",
        "        for s in size:\n",
        "            num_features *= s\n",
        "        return num_features"
      ],
      "execution_count": 0,
      "outputs": []
    },
    {
      "cell_type": "markdown",
      "metadata": {
        "id": "rLHMgjWLJgoG",
        "colab_type": "text"
      },
      "source": [
        "### Initializing With Random Weights\n",
        "First we will initiate convolutional layers weights using **uniform tensors**. The boundaries of this uniform tensor selected randomly.\n",
        "Also we will initiate linear layer weights with tensor generated by **xavier_uniform** function."
      ]
    },
    {
      "cell_type": "code",
      "metadata": {
        "id": "DcK_4_NxcwQA",
        "colab_type": "code",
        "outputId": "b4f4655a-35ee-4e16-e3ae-3ebedb431f63",
        "colab": {
          "base_uri": "https://localhost:8080/",
          "height": 34
        }
      },
      "source": [
        "trainloader = torch.utils.data.DataLoader(trainset, batch_size=32, shuffle=True, num_workers=4)\n",
        "testloader = torch.utils.data.DataLoader(testset, batch_size=32, shuffle=False, num_workers=4)\n",
        "net = Net()\n",
        "nn.init.uniform_(net.conv1.weight,-2.0, 2.0)\n",
        "nn.init.uniform_(net.conv2.weight, -1.0,1.0)\n",
        "nn.init.xavier_uniform_(net.fc3.weight, gain=nn.init.calculate_gain('relu'))\n",
        "print('Init finished')"
      ],
      "execution_count": 0,
      "outputs": [
        {
          "output_type": "stream",
          "text": [
            "Init finished\n"
          ],
          "name": "stdout"
        }
      ]
    },
    {
      "cell_type": "markdown",
      "metadata": {
        "id": "75-af7_mJqGu",
        "colab_type": "text"
      },
      "source": [
        "Create loss function and optimizer"
      ]
    },
    {
      "cell_type": "code",
      "metadata": {
        "id": "z26WsznFb5jI",
        "colab_type": "code",
        "colab": {}
      },
      "source": [
        "criterion = nn.CrossEntropyLoss()\n",
        "optimizer = optim.SGD(net.parameters(), lr=0.001, momentum=0.9)"
      ],
      "execution_count": 0,
      "outputs": []
    },
    {
      "cell_type": "markdown",
      "metadata": {
        "id": "tOwASVWOJxgc",
        "colab_type": "text"
      },
      "source": [
        "Training the network"
      ]
    },
    {
      "cell_type": "code",
      "metadata": {
        "id": "7Pz1_5mJb55W",
        "colab_type": "code",
        "outputId": "5e460a4f-b7db-44b7-8a12-76f2599eb64b",
        "colab": {
          "base_uri": "https://localhost:8080/",
          "height": 52
        }
      },
      "source": [
        "start = time.time()\n",
        "for epoch in range(5):\n",
        "\n",
        "    running_loss = 0.0\n",
        "    for i, data in enumerate(trainloader, 0):\n",
        "        # get the inputs\n",
        "        inputs, labels = data\n",
        "\n",
        "        # zero the parameter gradients\n",
        "        optimizer.zero_grad()\n",
        "\n",
        "        # forward + backward + optimize\n",
        "        outputs = net(inputs)\n",
        "        loss = criterion(outputs, labels)\n",
        "        loss.backward()\n",
        "        optimizer.step()\n",
        "\n",
        "\n",
        "end = time.time()\n",
        "print('Finished Training')\n",
        "print('Training duration is: ', end - start)"
      ],
      "execution_count": 0,
      "outputs": [
        {
          "output_type": "stream",
          "text": [
            "Finished Training\n",
            "Training duration is:  128.35139155387878\n"
          ],
          "name": "stdout"
        }
      ]
    },
    {
      "cell_type": "markdown",
      "metadata": {
        "id": "y79iL6b_J1_j",
        "colab_type": "text"
      },
      "source": [
        "Testing the network and calculate accuracy."
      ]
    },
    {
      "cell_type": "code",
      "metadata": {
        "id": "YC1-PVwlcDcJ",
        "colab_type": "code",
        "outputId": "bd76ccb0-e5fc-4a5f-c05a-c77f7ee5763e",
        "colab": {
          "base_uri": "https://localhost:8080/",
          "height": 34
        }
      },
      "source": [
        "correct = 0\n",
        "total = 0\n",
        "with torch.no_grad():\n",
        "    for data in testloader:\n",
        "        images, labels = data\n",
        "        outputs = net(images)\n",
        "        _, predicted = torch.max(outputs.data, 1)\n",
        "        total += labels.size(0)\n",
        "        correct += (predicted == labels).sum().item()\n",
        "\n",
        "print('Accuracy of the network on the 10000 test images: %d %%' % (\n",
        "    100 * correct / total))"
      ],
      "execution_count": 0,
      "outputs": [
        {
          "output_type": "stream",
          "text": [
            "Accuracy of the network on the 10000 test images: 47 %\n"
          ],
          "name": "stdout"
        }
      ]
    },
    {
      "cell_type": "markdown",
      "metadata": {
        "id": "Ls0RErR0nnzQ",
        "colab_type": "text"
      },
      "source": [
        "But if we use the random generator of pytorch accuracy will decrease significantly. See following section."
      ]
    },
    {
      "cell_type": "code",
      "metadata": {
        "id": "eR9pPDilnm0g",
        "colab_type": "code",
        "outputId": "ddf1f123-0c66-4f3e-95ea-6bbca4a173ec",
        "colab": {
          "base_uri": "https://localhost:8080/",
          "height": 34
        }
      },
      "source": [
        "trainloader = torch.utils.data.DataLoader(trainset, batch_size=32, shuffle=True, num_workers=4)\n",
        "testloader = torch.utils.data.DataLoader(testset, batch_size=32, shuffle=False, num_workers=4)\n",
        "net = Net()\n",
        "net.conv1.weight = nn.Parameter(torch.randn(12,3,3,3))\n",
        "net.conv2.weight = nn.Parameter(torch.randn(26,12,3,3))\n",
        "net.fc3.weight = nn.Parameter(torch.randn(10,936))\n",
        "print('Init Finished')"
      ],
      "execution_count": 0,
      "outputs": [
        {
          "output_type": "stream",
          "text": [
            "Init Finished\n"
          ],
          "name": "stdout"
        }
      ]
    },
    {
      "cell_type": "code",
      "metadata": {
        "colab_type": "code",
        "id": "9ORiX2Q1oS6S",
        "colab": {}
      },
      "source": [
        "criterion = nn.CrossEntropyLoss()\n",
        "optimizer = optim.SGD(net.parameters(), lr=0.001, momentum=0.9)"
      ],
      "execution_count": 0,
      "outputs": []
    },
    {
      "cell_type": "code",
      "metadata": {
        "id": "NMMCeXmkpIU3",
        "colab_type": "code",
        "outputId": "eccf1634-f515-4d49-b63f-0c66978f641a",
        "colab": {
          "base_uri": "https://localhost:8080/",
          "height": 34
        }
      },
      "source": [
        "for epoch in range(5):\n",
        "\n",
        "    running_loss = 0.0\n",
        "    for i, data in enumerate(trainloader, 0):\n",
        "        # get the inputs\n",
        "        inputs, labels = data\n",
        "\n",
        "        # zero the parameter gradients\n",
        "        optimizer.zero_grad()\n",
        "\n",
        "        # forward + backward + optimize\n",
        "        outputs = net(inputs)\n",
        "        loss = criterion(outputs, labels)\n",
        "        loss.backward()\n",
        "        optimizer.step()\n",
        "\n",
        "        # print statistics\n",
        "        running_loss += loss.item()\n",
        "        if i % 2000 == 1999:    # print every 2000 mini-batches\n",
        "            print('[%d, %5d] loss: %.3f' %\n",
        "                  (epoch + 1, i + 1, running_loss / 2000))\n",
        "            running_loss = 0.0\n",
        "\n",
        "print('Finished Training')"
      ],
      "execution_count": 0,
      "outputs": [
        {
          "output_type": "stream",
          "text": [
            "Finished Training\n"
          ],
          "name": "stdout"
        }
      ]
    },
    {
      "cell_type": "code",
      "metadata": {
        "id": "4nZSWUFypMWJ",
        "colab_type": "code",
        "outputId": "87fb007a-4353-4e2b-f0c3-b3c938fdc0c7",
        "colab": {
          "base_uri": "https://localhost:8080/",
          "height": 34
        }
      },
      "source": [
        "correct = 0\n",
        "total = 0\n",
        "with torch.no_grad():\n",
        "    for data in testloader:\n",
        "        images, labels = data\n",
        "        outputs = net(images)\n",
        "        _, predicted = torch.max(outputs.data, 1)\n",
        "        total += labels.size(0)\n",
        "        correct += (predicted == labels).sum().item()\n",
        "\n",
        "print('Accuracy of the network on the 10000 test images: %d %%' % (\n",
        "    100 * correct / total))"
      ],
      "execution_count": 0,
      "outputs": [
        {
          "output_type": "stream",
          "text": [
            "Accuracy of the network on the 10000 test images: 10 %\n"
          ],
          "name": "stdout"
        }
      ]
    },
    {
      "cell_type": "markdown",
      "metadata": {
        "id": "mf0EFmFMtGSU",
        "colab_type": "text"
      },
      "source": [
        "Very very bad accuracy."
      ]
    },
    {
      "cell_type": "markdown",
      "metadata": {
        "id": "kEkMS-UwtrjK",
        "colab_type": "text"
      },
      "source": [
        "### Initializing All Weights to Zero\n",
        "In this section we will initiate all weights and biases to zero."
      ]
    },
    {
      "cell_type": "code",
      "metadata": {
        "colab_type": "code",
        "id": "vlR_VltouqeK",
        "outputId": "4c468c3d-6bf8-410e-b788-2029667f7caf",
        "colab": {
          "base_uri": "https://localhost:8080/",
          "height": 34
        }
      },
      "source": [
        "trainloader = torch.utils.data.DataLoader(trainset, batch_size=32, shuffle=True, num_workers=4)\n",
        "testloader = torch.utils.data.DataLoader(testset, batch_size=32, shuffle=False, num_workers=4)\n",
        "net = Net()\n",
        "nn.init.zeros_(net.conv1.bias)\n",
        "nn.init.zeros_(net.conv1.weight)\n",
        "nn.init.zeros_(net.conv2.bias)\n",
        "nn.init.zeros_(net.conv2.weight)\n",
        "nn.init.zeros_(net.fc3.bias)\n",
        "nn.init.zeros_(net.fc3.weight)\n",
        "print('Init finished')"
      ],
      "execution_count": 0,
      "outputs": [
        {
          "output_type": "stream",
          "text": [
            "Init finished\n"
          ],
          "name": "stdout"
        }
      ]
    },
    {
      "cell_type": "markdown",
      "metadata": {
        "colab_type": "text",
        "id": "FLoy9XxGuqeR"
      },
      "source": [
        "Create loss function and optimizer"
      ]
    },
    {
      "cell_type": "code",
      "metadata": {
        "colab_type": "code",
        "id": "3c9U-GnvuqeR",
        "colab": {}
      },
      "source": [
        "criterion = nn.CrossEntropyLoss()\n",
        "optimizer = optim.SGD(net.parameters(), lr=0.001, momentum=0.9)"
      ],
      "execution_count": 0,
      "outputs": []
    },
    {
      "cell_type": "markdown",
      "metadata": {
        "colab_type": "text",
        "id": "KrWsKnWnuqeU"
      },
      "source": [
        "Training the network"
      ]
    },
    {
      "cell_type": "code",
      "metadata": {
        "colab_type": "code",
        "id": "WSZGDuPWuqeU",
        "outputId": "a7835316-208b-4f5e-8ca2-e3996c275296",
        "colab": {
          "base_uri": "https://localhost:8080/",
          "height": 34
        }
      },
      "source": [
        "for epoch in range(5):\n",
        "\n",
        "    running_loss = 0.0\n",
        "    for i, data in enumerate(trainloader, 0):\n",
        "        # get the inputs\n",
        "        inputs, labels = data\n",
        "\n",
        "        # zero the parameter gradients\n",
        "        optimizer.zero_grad()\n",
        "\n",
        "        # forward + backward + optimize\n",
        "        outputs = net(inputs)\n",
        "        loss = criterion(outputs, labels)\n",
        "        loss.backward()\n",
        "        optimizer.step()\n",
        "\n",
        "        # print statistics\n",
        "        running_loss += loss.item()\n",
        "        if i % 2000 == 1999:    # print every 2000 mini-batches\n",
        "            print('[%d, %5d] loss: %.3f' %\n",
        "                  (epoch + 1, i + 1, running_loss / 2000))\n",
        "            running_loss = 0.0\n",
        "\n",
        "print('Finished Training')"
      ],
      "execution_count": 0,
      "outputs": [
        {
          "output_type": "stream",
          "text": [
            "Finished Training\n"
          ],
          "name": "stdout"
        }
      ]
    },
    {
      "cell_type": "markdown",
      "metadata": {
        "colab_type": "text",
        "id": "dFodPFxNuqeX"
      },
      "source": [
        "Testing the network and calculate accuracy."
      ]
    },
    {
      "cell_type": "code",
      "metadata": {
        "colab_type": "code",
        "id": "YLfgyyAjuqeX",
        "outputId": "0698dcdd-0e23-4b8b-de02-4d1c98606a79",
        "colab": {
          "base_uri": "https://localhost:8080/",
          "height": 34
        }
      },
      "source": [
        "correct = 0\n",
        "total = 0\n",
        "with torch.no_grad():\n",
        "    for data in testloader:\n",
        "        images, labels = data\n",
        "        outputs = net(images)\n",
        "        _, predicted = torch.max(outputs.data, 1)\n",
        "        total += labels.size(0)\n",
        "        correct += (predicted == labels).sum().item()\n",
        "\n",
        "print('Accuracy of the network on the 10000 test images: %d %%' % (\n",
        "    100 * correct / total))"
      ],
      "execution_count": 0,
      "outputs": [
        {
          "output_type": "stream",
          "text": [
            "Accuracy of the network on the 10000 test images: 10 %\n"
          ],
          "name": "stdout"
        }
      ]
    },
    {
      "cell_type": "markdown",
      "metadata": {
        "id": "uP1vFDfxWSai",
        "colab_type": "text"
      },
      "source": [
        "## 2.\n",
        "\n"
      ]
    },
    {
      "cell_type": "markdown",
      "metadata": {
        "id": "R4xCkPsZ4IFH",
        "colab_type": "text"
      },
      "source": [
        "### Defining 2 Layered CNN With 3*3 Filter\n",
        "In this section we will define a CNN. with 3 hidden layers."
      ]
    },
    {
      "cell_type": "code",
      "metadata": {
        "colab_type": "code",
        "id": "DuKlvQU-kjRa",
        "colab": {}
      },
      "source": [
        "class Net(nn.Module):\n",
        "\n",
        "    def __init__(self):\n",
        "        super(Net, self).__init__()\n",
        "        self.conv1 = nn.Conv2d(3, 12, 3)\n",
        "        self.fc3 = nn.Linear(12*15*15, 10)\n",
        "\n",
        "    def forward(self, x):\n",
        "        x = F.max_pool2d(F.relu(self.conv1(x)), (2, 2))\n",
        "        x = x.view(-1, self.num_flat_features(x))\n",
        "        x = self.fc3(x)\n",
        "        return x\n",
        "\n",
        "    def num_flat_features(self, x):\n",
        "        size = x.size()[1:]  # all dimensions except the batch dimension\n",
        "        num_features = 1\n",
        "        for s in size:\n",
        "            num_features *= s\n",
        "        return num_features"
      ],
      "execution_count": 0,
      "outputs": []
    },
    {
      "cell_type": "code",
      "metadata": {
        "colab_type": "code",
        "id": "T8nRgC9zzsu2",
        "outputId": "03a3d6b0-6c96-4ae1-97fa-44165b5d27f2",
        "colab": {
          "base_uri": "https://localhost:8080/",
          "height": 34
        }
      },
      "source": [
        "trainloader = torch.utils.data.DataLoader(trainset, batch_size=32, shuffle=True, num_workers=4)\n",
        "testloader = torch.utils.data.DataLoader(testset, batch_size=32, shuffle=False, num_workers=4)\n",
        "\n",
        "net = Net()\n",
        "nn.init.uniform_(net.conv1.weight,-2.0, 2.0)\n",
        "nn.init.xavier_uniform_(net.fc3.weight, gain=nn.init.calculate_gain('relu'))\n",
        "print('Init finished')"
      ],
      "execution_count": 0,
      "outputs": [
        {
          "output_type": "stream",
          "text": [
            "Init finished\n"
          ],
          "name": "stdout"
        }
      ]
    },
    {
      "cell_type": "markdown",
      "metadata": {
        "colab_type": "text",
        "id": "myQCu9OSzsu4"
      },
      "source": [
        "Create loss function and optimizer"
      ]
    },
    {
      "cell_type": "code",
      "metadata": {
        "colab_type": "code",
        "id": "vd4hmiHWzsu5",
        "colab": {}
      },
      "source": [
        "criterion = nn.CrossEntropyLoss()\n",
        "optimizer = optim.SGD(net.parameters(), lr=0.001, momentum=0.9)"
      ],
      "execution_count": 0,
      "outputs": []
    },
    {
      "cell_type": "markdown",
      "metadata": {
        "colab_type": "text",
        "id": "tNNOTbulzsu6"
      },
      "source": [
        "Training the network"
      ]
    },
    {
      "cell_type": "code",
      "metadata": {
        "colab_type": "code",
        "id": "mlf2C-kvzsu6",
        "outputId": "0198eb74-0f1b-4bdd-ec91-dec436993232",
        "colab": {
          "base_uri": "https://localhost:8080/",
          "height": 34
        }
      },
      "source": [
        "for epoch in range(5):\n",
        "\n",
        "    running_loss = 0.0\n",
        "    for i, data in enumerate(trainloader, 0):\n",
        "        # get the inputs\n",
        "        inputs, labels = data\n",
        "\n",
        "        # zero the parameter gradients\n",
        "        optimizer.zero_grad()\n",
        "\n",
        "        # forward + backward + optimize\n",
        "        outputs = net(inputs)\n",
        "        loss = criterion(outputs, labels)\n",
        "        loss.backward()\n",
        "        optimizer.step()\n",
        "\n",
        "        # print statistics\n",
        "        running_loss += loss.item()\n",
        "        if i % 2000 == 1999:    # print every 2000 mini-batches\n",
        "            print('[%d, %5d] loss: %.3f' %\n",
        "                  (epoch + 1, i + 1, running_loss / 2000))\n",
        "            running_loss = 0.0\n",
        "\n",
        "print('Finished Training')"
      ],
      "execution_count": 0,
      "outputs": [
        {
          "output_type": "stream",
          "text": [
            "Finished Training\n"
          ],
          "name": "stdout"
        }
      ]
    },
    {
      "cell_type": "markdown",
      "metadata": {
        "colab_type": "text",
        "id": "u7l0-Gs6zsu-"
      },
      "source": [
        "Testing the network and calculate accuracy."
      ]
    },
    {
      "cell_type": "code",
      "metadata": {
        "colab_type": "code",
        "id": "VHaUIOvlzsu-",
        "outputId": "a9682d76-0efb-4c56-9e05-3ab4831c0f1d",
        "colab": {
          "base_uri": "https://localhost:8080/",
          "height": 34
        }
      },
      "source": [
        "correct = 0\n",
        "total = 0\n",
        "with torch.no_grad():\n",
        "    for data in testloader:\n",
        "        images, labels = data\n",
        "        outputs = net(images)\n",
        "        _, predicted = torch.max(outputs.data, 1)\n",
        "        total += labels.size(0)\n",
        "        correct += (predicted == labels).sum().item()\n",
        "\n",
        "print('Accuracy of the network on the 10000 test images: %d %%' % (\n",
        "    100 * correct / total))"
      ],
      "execution_count": 0,
      "outputs": [
        {
          "output_type": "stream",
          "text": [
            "Accuracy of the network on the 10000 test images: 55 %\n"
          ],
          "name": "stdout"
        }
      ]
    },
    {
      "cell_type": "markdown",
      "metadata": {
        "id": "8bvj19ST0MiE",
        "colab_type": "text"
      },
      "source": [
        "Now we will increase size of the filter.\n"
      ]
    },
    {
      "cell_type": "markdown",
      "metadata": {
        "colab_type": "text",
        "id": "4HsZv9fw3wQZ"
      },
      "source": [
        "### Defining 2 Layered CNN With 5*5 Filter\n",
        "In this section we will define a CNN. with 3 hidden layers.\n"
      ]
    },
    {
      "cell_type": "code",
      "metadata": {
        "colab_type": "code",
        "id": "W-Iq_WRv0Ugu",
        "colab": {}
      },
      "source": [
        "class Net(nn.Module):\n",
        "\n",
        "    def __init__(self):\n",
        "        super(Net, self).__init__()\n",
        "        self.conv1 = nn.Conv2d(3, 12, 5)\n",
        "        self.fc3 = nn.Linear(12*14*14, 10)\n",
        "\n",
        "    def forward(self, x):\n",
        "        x = F.max_pool2d(F.relu(self.conv1(x)), (2, 2))\n",
        "        x = x.view(-1, self.num_flat_features(x))\n",
        "        x = self.fc3(x)\n",
        "        return x\n",
        "\n",
        "    def num_flat_features(self, x):\n",
        "        size = x.size()[1:]  # all dimensions except the batch dimension\n",
        "        num_features = 1\n",
        "        for s in size:\n",
        "            num_features *= s\n",
        "        return num_features"
      ],
      "execution_count": 0,
      "outputs": []
    },
    {
      "cell_type": "code",
      "metadata": {
        "colab_type": "code",
        "id": "_obnj8KV0Ugw",
        "outputId": "081a161b-ed2a-4315-c9ee-f8fbd5199935",
        "colab": {
          "base_uri": "https://localhost:8080/",
          "height": 34
        }
      },
      "source": [
        "trainloader = torch.utils.data.DataLoader(trainset, batch_size=32, shuffle=True, num_workers=4)\n",
        "testloader = torch.utils.data.DataLoader(testset, batch_size=32, shuffle=False, num_workers=4)\n",
        "net = Net()\n",
        "nn.init.uniform_(net.conv1.weight,-2.0, 2.0)\n",
        "nn.init.xavier_uniform_(net.fc3.weight, gain=nn.init.calculate_gain('relu'))\n",
        "print('Init finished')"
      ],
      "execution_count": 0,
      "outputs": [
        {
          "output_type": "stream",
          "text": [
            "Init finished\n"
          ],
          "name": "stdout"
        }
      ]
    },
    {
      "cell_type": "markdown",
      "metadata": {
        "colab_type": "text",
        "id": "t4VrmoyR0Ugy"
      },
      "source": [
        "Create loss function and optimizer"
      ]
    },
    {
      "cell_type": "code",
      "metadata": {
        "colab_type": "code",
        "id": "4gO2174z0Ugy",
        "colab": {}
      },
      "source": [
        "criterion = nn.CrossEntropyLoss()\n",
        "optimizer = optim.SGD(net.parameters(), lr=0.001, momentum=0.9)"
      ],
      "execution_count": 0,
      "outputs": []
    },
    {
      "cell_type": "markdown",
      "metadata": {
        "colab_type": "text",
        "id": "b_F_9ZkN0Ug0"
      },
      "source": [
        "Training the network"
      ]
    },
    {
      "cell_type": "code",
      "metadata": {
        "colab_type": "code",
        "id": "hr3EbwBV0Ug1",
        "outputId": "754a03f2-0ad6-49ff-8292-e985b04395a0",
        "colab": {
          "base_uri": "https://localhost:8080/",
          "height": 34
        }
      },
      "source": [
        "for epoch in range(5):\n",
        "\n",
        "    running_loss = 0.0\n",
        "    for i, data in enumerate(trainloader, 0):\n",
        "        # get the inputs\n",
        "        inputs, labels = data\n",
        "\n",
        "        # zero the parameter gradients\n",
        "        optimizer.zero_grad()\n",
        "\n",
        "        # forward + backward + optimize\n",
        "        outputs = net(inputs)\n",
        "        loss = criterion(outputs, labels)\n",
        "        loss.backward()\n",
        "        optimizer.step()\n",
        "\n",
        "        # print statistics\n",
        "        running_loss += loss.item()\n",
        "        if i % 2000 == 1999:    # print every 2000 mini-batches\n",
        "            print('[%d, %5d] loss: %.3f' %\n",
        "                  (epoch + 1, i + 1, running_loss / 2000))\n",
        "            running_loss = 0.0\n",
        "\n",
        "print('Finished Training')"
      ],
      "execution_count": 0,
      "outputs": [
        {
          "output_type": "stream",
          "text": [
            "Finished Training\n"
          ],
          "name": "stdout"
        }
      ]
    },
    {
      "cell_type": "markdown",
      "metadata": {
        "colab_type": "text",
        "id": "_atSjcH90Ug4"
      },
      "source": [
        "Testing the network and calculate accuracy."
      ]
    },
    {
      "cell_type": "code",
      "metadata": {
        "colab_type": "code",
        "id": "Tj2880hK0Ug5",
        "outputId": "80b5aaf0-28cf-4e12-8b69-5bb0edbc6f38",
        "colab": {
          "base_uri": "https://localhost:8080/",
          "height": 34
        }
      },
      "source": [
        "correct = 0\n",
        "total = 0\n",
        "with torch.no_grad():\n",
        "    for data in testloader:\n",
        "        images, labels = data\n",
        "        outputs = net(images)\n",
        "        _, predicted = torch.max(outputs.data, 1)\n",
        "        total += labels.size(0)\n",
        "        correct += (predicted == labels).sum().item()\n",
        "\n",
        "print('Accuracy of the network on the 10000 test images: %d %%' % (\n",
        "    100 * correct / total))"
      ],
      "execution_count": 0,
      "outputs": [
        {
          "output_type": "stream",
          "text": [
            "Accuracy of the network on the 10000 test images: 52 %\n"
          ],
          "name": "stdout"
        }
      ]
    },
    {
      "cell_type": "markdown",
      "metadata": {
        "id": "DNsLcg5b0jK_",
        "colab_type": "text"
      },
      "source": [
        "And now we will increase it again to figure out impact of increasing the filter size on accuracy."
      ]
    },
    {
      "cell_type": "markdown",
      "metadata": {
        "colab_type": "text",
        "id": "5M8sBbvO348-"
      },
      "source": [
        "### Defining 2 Layered CNN With 7*7 Filter\n",
        "In this section we will define a CNN. with 3 hidden layers.\n"
      ]
    },
    {
      "cell_type": "code",
      "metadata": {
        "colab_type": "code",
        "id": "CnXroOrD08FP",
        "colab": {}
      },
      "source": [
        "class Net(nn.Module):\n",
        "\n",
        "    def __init__(self):\n",
        "        super(Net, self).__init__()\n",
        "        self.conv1 = nn.Conv2d(3, 12, 7)\n",
        "        self.fc3 = nn.Linear(12*13*13, 10)\n",
        "\n",
        "    def forward(self, x):\n",
        "        x = F.max_pool2d(F.relu(self.conv1(x)), (2, 2))\n",
        "        x = x.view(-1, self.num_flat_features(x))\n",
        "        x = self.fc3(x)\n",
        "        return x\n",
        "\n",
        "    def num_flat_features(self, x):\n",
        "        size = x.size()[1:]  # all dimensions except the batch dimension\n",
        "        num_features = 1\n",
        "        for s in size:\n",
        "            num_features *= s\n",
        "        return num_features"
      ],
      "execution_count": 0,
      "outputs": []
    },
    {
      "cell_type": "code",
      "metadata": {
        "colab_type": "code",
        "id": "mbH_ulMe08FS",
        "outputId": "c904fbab-eb48-46c0-d6db-f6a37ffc8465",
        "colab": {
          "base_uri": "https://localhost:8080/",
          "height": 34
        }
      },
      "source": [
        "trainloader = torch.utils.data.DataLoader(trainset, batch_size=32, shuffle=True, num_workers=4)\n",
        "testloader = torch.utils.data.DataLoader(testset, batch_size=32, shuffle=False, num_workers=4)\n",
        "net = Net()\n",
        "nn.init.uniform_(net.conv1.weight,-2.0, 2.0)\n",
        "nn.init.xavier_uniform_(net.fc3.weight, gain=nn.init.calculate_gain('relu'))\n",
        "print('Init finished')"
      ],
      "execution_count": 0,
      "outputs": [
        {
          "output_type": "stream",
          "text": [
            "Init finished\n"
          ],
          "name": "stdout"
        }
      ]
    },
    {
      "cell_type": "markdown",
      "metadata": {
        "colab_type": "text",
        "id": "Zh78QPFh08FW"
      },
      "source": [
        "Create loss function and optimizer"
      ]
    },
    {
      "cell_type": "code",
      "metadata": {
        "colab_type": "code",
        "id": "MbOWMugb08FX",
        "colab": {}
      },
      "source": [
        "criterion = nn.CrossEntropyLoss()\n",
        "optimizer = optim.SGD(net.parameters(), lr=0.001, momentum=0.9)"
      ],
      "execution_count": 0,
      "outputs": []
    },
    {
      "cell_type": "markdown",
      "metadata": {
        "colab_type": "text",
        "id": "PyAHb8ve08FY"
      },
      "source": [
        "Training the network"
      ]
    },
    {
      "cell_type": "code",
      "metadata": {
        "colab_type": "code",
        "id": "pE3Ahz_808FZ",
        "outputId": "ea77f1c9-0b82-4f63-dc21-009b2dae0e72",
        "colab": {
          "base_uri": "https://localhost:8080/",
          "height": 34
        }
      },
      "source": [
        "for epoch in range(5):\n",
        "\n",
        "    running_loss = 0.0\n",
        "    for i, data in enumerate(trainloader, 0):\n",
        "        # get the inputs\n",
        "        inputs, labels = data\n",
        "\n",
        "        # zero the parameter gradients\n",
        "        optimizer.zero_grad()\n",
        "\n",
        "        # forward + backward + optimize\n",
        "        outputs = net(inputs)\n",
        "        loss = criterion(outputs, labels)\n",
        "        loss.backward()\n",
        "        optimizer.step()\n",
        "\n",
        "        # print statistics\n",
        "        running_loss += loss.item()\n",
        "        if i % 2000 == 1999:    # print every 2000 mini-batches\n",
        "            print('[%d, %5d] loss: %.3f' %\n",
        "                  (epoch + 1, i + 1, running_loss / 2000))\n",
        "            running_loss = 0.0\n",
        "\n",
        "print('Finished Training')"
      ],
      "execution_count": 0,
      "outputs": [
        {
          "output_type": "stream",
          "text": [
            "Finished Training\n"
          ],
          "name": "stdout"
        }
      ]
    },
    {
      "cell_type": "markdown",
      "metadata": {
        "colab_type": "text",
        "id": "5j5BaTCP08Fb"
      },
      "source": [
        "Testing the network and calculate accuracy."
      ]
    },
    {
      "cell_type": "code",
      "metadata": {
        "colab_type": "code",
        "id": "x_jtXFN908Fb",
        "outputId": "0928c763-7dad-48d5-d825-cc648d52a82f",
        "colab": {
          "base_uri": "https://localhost:8080/",
          "height": 34
        }
      },
      "source": [
        "correct = 0\n",
        "total = 0\n",
        "with torch.no_grad():\n",
        "    for data in testloader:\n",
        "        images, labels = data\n",
        "        outputs = net(images)\n",
        "        _, predicted = torch.max(outputs.data, 1)\n",
        "        total += labels.size(0)\n",
        "        correct += (predicted == labels).sum().item()\n",
        "\n",
        "print('Accuracy of the network on the 10000 test images: %d %%' % (\n",
        "    100 * correct / total))"
      ],
      "execution_count": 0,
      "outputs": [
        {
          "output_type": "stream",
          "text": [
            "Accuracy of the network on the 10000 test images: 49 %\n"
          ],
          "name": "stdout"
        }
      ]
    },
    {
      "cell_type": "markdown",
      "metadata": {
        "id": "9KVWE7x32rAh",
        "colab_type": "text"
      },
      "source": [
        "As you can see when we increase size of filter, accuracy decreases. So the **best size is 3** for square filter."
      ]
    },
    {
      "cell_type": "markdown",
      "metadata": {
        "id": "2Wnjjer33bEc",
        "colab_type": "text"
      },
      "source": [
        "## 3."
      ]
    },
    {
      "cell_type": "code",
      "metadata": {
        "colab_type": "code",
        "id": "bBZ9Q2GFNngi",
        "colab": {}
      },
      "source": [
        "class Net(nn.Module):\n",
        "\n",
        "    def __init__(self):\n",
        "        super(Net, self).__init__()\n",
        "        self.conv1 = nn.Conv2d(3, 12, 3)\n",
        "        self.conv2 = nn.Conv2d(12, 26, 3)\n",
        "        self.fc3 = nn.Linear(26*6*6, 10)\n",
        "\n",
        "    def forward(self, x):\n",
        "        x = F.max_pool2d(F.relu(self.conv1(x)), (2, 2))\n",
        "        x = F.max_pool2d(F.relu(self.conv2(x)), 2)\n",
        "        x = x.view(-1, self.num_flat_features(x))\n",
        "        x = self.fc3(x)\n",
        "        return x\n",
        "\n",
        "    def num_flat_features(self, x):\n",
        "        size = x.size()[1:]  # all dimensions except the batch dimension\n",
        "        num_features = 1\n",
        "        for s in size:\n",
        "            num_features *= s\n",
        "        return num_features"
      ],
      "execution_count": 0,
      "outputs": []
    },
    {
      "cell_type": "code",
      "metadata": {
        "colab_type": "code",
        "outputId": "b6f15354-d61f-479c-9180-8e38b73307b6",
        "id": "sw41EXdNNfUb",
        "colab": {
          "base_uri": "https://localhost:8080/",
          "height": 34
        }
      },
      "source": [
        "net = Net()\n",
        "nn.init.uniform_(net.conv1.weight,-2.0, 2.0)\n",
        "nn.init.uniform_(net.conv2.weight, -1.0,1.0)\n",
        "nn.init.xavier_uniform_(net.fc3.weight, gain=nn.init.calculate_gain('relu'))\n",
        "print('Init finished')"
      ],
      "execution_count": 0,
      "outputs": [
        {
          "output_type": "stream",
          "text": [
            "Init finished\n"
          ],
          "name": "stdout"
        }
      ]
    },
    {
      "cell_type": "markdown",
      "metadata": {
        "colab_type": "text",
        "id": "wOHytHF_NfUh"
      },
      "source": [
        "Create loss function and optimizer"
      ]
    },
    {
      "cell_type": "code",
      "metadata": {
        "colab_type": "code",
        "id": "LJorTB_cNfUh",
        "colab": {}
      },
      "source": [
        "criterion = nn.CrossEntropyLoss()\n",
        "optimizer = optim.SGD(net.parameters(), lr=0.001, momentum=0.9)"
      ],
      "execution_count": 0,
      "outputs": []
    },
    {
      "cell_type": "markdown",
      "metadata": {
        "colab_type": "text",
        "id": "wDEep0vvNfUj"
      },
      "source": [
        "Training the network"
      ]
    },
    {
      "cell_type": "code",
      "metadata": {
        "colab_type": "code",
        "id": "akLBhwKBNfUk",
        "outputId": "b7a008c0-e21d-40f7-f818-bb923aad38e4",
        "colab": {
          "base_uri": "https://localhost:8080/",
          "height": 52
        }
      },
      "source": [
        "start = time.time()\n",
        "for epoch in range(5):\n",
        "\n",
        "    running_loss = 0.0\n",
        "    for i, data in enumerate(norm_trainloader, 0):\n",
        "        # get the inputs\n",
        "        inputs, labels = data\n",
        "\n",
        "        # zero the parameter gradients\n",
        "        optimizer.zero_grad()\n",
        "\n",
        "        # forward + backward + optimize\n",
        "        outputs = net(inputs)\n",
        "        loss = criterion(outputs, labels)\n",
        "        loss.backward()\n",
        "        optimizer.step()\n",
        "\n",
        "        # print statistics\n",
        "        running_loss += loss.item()\n",
        "        if i % 2000 == 1999:    # print every 2000 mini-batches\n",
        "            print('[%d, %5d] loss: %.3f' %\n",
        "                  (epoch + 1, i + 1, running_loss / 2000))\n",
        "            running_loss = 0.0\n",
        "\n",
        "end = time.time()\n",
        "print('Finished Training')\n",
        "print('Tarining Duration: ', end - start)"
      ],
      "execution_count": 0,
      "outputs": [
        {
          "output_type": "stream",
          "text": [
            "Finished Training\n",
            "Tarining Duration:  139.04268622398376\n"
          ],
          "name": "stdout"
        }
      ]
    },
    {
      "cell_type": "markdown",
      "metadata": {
        "colab_type": "text",
        "id": "ZDCgwsURNfUm"
      },
      "source": [
        "Testing the network and calculate accuracy."
      ]
    },
    {
      "cell_type": "code",
      "metadata": {
        "colab_type": "code",
        "id": "vTLvH4H9NfUm",
        "outputId": "4cd32197-f137-43b2-c1bb-2c4205d73f16",
        "colab": {
          "base_uri": "https://localhost:8080/",
          "height": 34
        }
      },
      "source": [
        "correct = 0\n",
        "total = 0\n",
        "with torch.no_grad():\n",
        "    for data in norm_testloader:\n",
        "        images, labels = data\n",
        "        outputs = net(images)\n",
        "        _, predicted = torch.max(outputs.data, 1)\n",
        "        total += labels.size(0)\n",
        "        correct += (predicted == labels).sum().item()\n",
        "\n",
        "print('Accuracy of the network on the 10000 test images: %d %%' % (\n",
        "    100 * correct / total))"
      ],
      "execution_count": 0,
      "outputs": [
        {
          "output_type": "stream",
          "text": [
            "Accuracy of the network on the 10000 test images: 50 %\n"
          ],
          "name": "stdout"
        }
      ]
    },
    {
      "cell_type": "markdown",
      "metadata": {
        "id": "685SvQzuYIUd",
        "colab_type": "text"
      },
      "source": [
        "As you can see accuracy of this network which has trained with normalized data increased by 2% .\n",
        "So normalization makes training procedure more accurate.\n",
        "\n",
        "We normalize the data without taking care about their labels because, we apply the normalization matrix to all dataset and there is no difference between them."
      ]
    },
    {
      "cell_type": "markdown",
      "metadata": {
        "id": "14rcNfOXbqax",
        "colab_type": "text"
      },
      "source": [
        "## 4."
      ]
    },
    {
      "cell_type": "markdown",
      "metadata": {
        "id": "bbhZtwV7bwao",
        "colab_type": "text"
      },
      "source": [
        "### High Learning Rate"
      ]
    },
    {
      "cell_type": "code",
      "metadata": {
        "id": "Er1Wii0jbr_U",
        "colab_type": "code",
        "outputId": "02ab579b-f960-4f8b-d132-d5f598eb20ad",
        "colab": {
          "base_uri": "https://localhost:8080/",
          "height": 34
        }
      },
      "source": [
        "norm_trainloader = torch.utils.data.DataLoader(trainset, batch_size=32, shuffle=True, num_workers=4)\n",
        "norm_testloader = torch.utils.data.DataLoader(testset, batch_size=32, shuffle=False, num_workers=4)\n",
        "net = Net()\n",
        "nn.init.uniform_(net.conv1.weight,-2.0, 2.0)\n",
        "nn.init.uniform_(net.conv2.weight, -1.0,1.0)\n",
        "nn.init.xavier_uniform_(net.fc3.weight, gain=nn.init.calculate_gain('relu'))\n",
        "print('Init finished')"
      ],
      "execution_count": 124,
      "outputs": [
        {
          "output_type": "stream",
          "text": [
            "Init finished\n"
          ],
          "name": "stdout"
        }
      ]
    },
    {
      "cell_type": "code",
      "metadata": {
        "id": "mNA0davGcHoz",
        "colab_type": "code",
        "colab": {}
      },
      "source": [
        "criterion = nn.CrossEntropyLoss()\n",
        "optimizer = optim.SGD(net.parameters(), lr=0.01, momentum=0.9)\n",
        "hlr_loss_vals = list()"
      ],
      "execution_count": 0,
      "outputs": []
    },
    {
      "cell_type": "code",
      "metadata": {
        "id": "jrbEzFtMdACm",
        "colab_type": "code",
        "outputId": "77e14533-67f2-4d67-ae18-cc4f77c16d72",
        "colab": {
          "base_uri": "https://localhost:8080/",
          "height": 52
        }
      },
      "source": [
        "start = time.time()\n",
        "for epoch in range(5):\n",
        "\n",
        "    running_loss = 0.0\n",
        "    for i, data in enumerate(norm_trainloader, 0):\n",
        "        inputs, labels = data\n",
        "        optimizer.zero_grad()\n",
        "        outputs = net(inputs)\n",
        "        loss = criterion(outputs, labels)\n",
        "        loss.backward()\n",
        "        optimizer.step()\n",
        "        hlr_loss_vals.append(loss.item())\n",
        "\n",
        "end = time.time()\n",
        "print('Finished Training')\n",
        "print('Tarining Duration: ', end - start)"
      ],
      "execution_count": 126,
      "outputs": [
        {
          "output_type": "stream",
          "text": [
            "Finished Training\n",
            "Tarining Duration:  127.61763739585876\n"
          ],
          "name": "stdout"
        }
      ]
    },
    {
      "cell_type": "code",
      "metadata": {
        "id": "VRz1vMA5dJFS",
        "colab_type": "code",
        "outputId": "415c986f-0e00-48af-b065-f6418906d365",
        "colab": {
          "base_uri": "https://localhost:8080/",
          "height": 34
        }
      },
      "source": [
        "correct = 0\n",
        "total = 0\n",
        "with torch.no_grad():\n",
        "    for data in norm_testloader:\n",
        "        images, labels = data\n",
        "        outputs = net(images)\n",
        "        _, predicted = torch.max(outputs.data, 1)\n",
        "        total += labels.size(0)\n",
        "        correct += (predicted == labels).sum().item()\n",
        "\n",
        "print('Accuracy of the network on the 10000 test images: %d %%' % (\n",
        "    100 * correct / total))"
      ],
      "execution_count": 127,
      "outputs": [
        {
          "output_type": "stream",
          "text": [
            "Accuracy of the network on the 10000 test images: 43 %\n"
          ],
          "name": "stdout"
        }
      ]
    },
    {
      "cell_type": "code",
      "metadata": {
        "id": "qJ69IFqDakas",
        "colab_type": "code",
        "outputId": "26ed9723-e288-47e5-c73c-129953baabde",
        "colab": {
          "base_uri": "https://localhost:8080/",
          "height": 295
        }
      },
      "source": [
        "x = np.array([n for n in range(0, len(hlr_loss_vals))])\n",
        "plt.plot(x, hlr_loss_vals)\n",
        "plt.title(r'Loss value after processing each batch') \n",
        "plt.xlabel('passed batches') \n",
        "plt.ylabel('loss value') \n",
        "plt.grid() \n",
        "plt.show() \n"
      ],
      "execution_count": 128,
      "outputs": [
        {
          "output_type": "display_data",
          "data": {
            "image/png": "[encoded data removed]",
            "text/plain": [
              "<Figure size 432x288 with 1 Axes>"
            ]
          },
          "metadata": {
            "tags": []
          }
        }
      ]
    },
    {
      "cell_type": "code",
      "metadata": {
        "id": "sQd3fuRSeptm",
        "colab_type": "code",
        "outputId": "81eb5169-b631-4532-a677-8ab180d81956",
        "colab": {
          "base_uri": "https://localhost:8080/",
          "height": 369
        }
      },
      "source": [
        "for i in range(0,20):\n",
        "  print(i, ' batches passed and loss value is: ', hlr_loss_vals[i])"
      ],
      "execution_count": 129,
      "outputs": [
        {
          "output_type": "stream",
          "text": [
            "0  batches passed and loss value is:  44.95771408081055\n",
            "1  batches passed and loss value is:  504.4513244628906\n",
            "2  batches passed and loss value is:  64.2362289428711\n",
            "3  batches passed and loss value is:  46.018768310546875\n",
            "4  batches passed and loss value is:  27.64629364013672\n",
            "5  batches passed and loss value is:  12.37315559387207\n",
            "6  batches passed and loss value is:  21.41192054748535\n",
            "7  batches passed and loss value is:  3.465538263320923\n",
            "8  batches passed and loss value is:  2.780107021331787\n",
            "9  batches passed and loss value is:  2.3776187896728516\n",
            "10  batches passed and loss value is:  2.2340216636657715\n",
            "11  batches passed and loss value is:  2.4121756553649902\n",
            "12  batches passed and loss value is:  2.385164499282837\n",
            "13  batches passed and loss value is:  2.3215243816375732\n",
            "14  batches passed and loss value is:  2.268362522125244\n",
            "15  batches passed and loss value is:  2.3144397735595703\n",
            "16  batches passed and loss value is:  2.2533299922943115\n",
            "17  batches passed and loss value is:  2.3321735858917236\n",
            "18  batches passed and loss value is:  2.3035833835601807\n",
            "19  batches passed and loss value is:  2.324903726577759\n"
          ],
          "name": "stdout"
        }
      ]
    },
    {
      "cell_type": "markdown",
      "metadata": {
        "id": "5J9L7Z3xfRQS",
        "colab_type": "text"
      },
      "source": [
        "So if we ignore first fifteen loss values we will see rest of plot more accuratly."
      ]
    },
    {
      "cell_type": "code",
      "metadata": {
        "id": "V40MbUBxfumg",
        "colab_type": "code",
        "outputId": "f77b706a-2b33-4b8d-8ea8-421636523fa1",
        "colab": {
          "base_uri": "https://localhost:8080/",
          "height": 295
        }
      },
      "source": [
        "plt.plot(x[15:], hlr_loss_vals[15:])\n",
        "plt.title(r'Loss value after processing each batch') \n",
        "plt.xlabel('passed batches') \n",
        "plt.ylabel('loss value') \n",
        "plt.grid() \n",
        "plt.show() "
      ],
      "execution_count": 130,
      "outputs": [
        {
          "output_type": "display_data",
          "data": {
            "image/png": "[encoded data removed]",
            "text/plain": [
              "<Figure size 432x288 with 1 Axes>"
            ]
          },
          "metadata": {
            "tags": []
          }
        }
      ]
    },
    {
      "cell_type": "markdown",
      "metadata": {
        "id": "i69qpLYEb3Di",
        "colab_type": "text"
      },
      "source": [
        "### Normal Learning Rate"
      ]
    },
    {
      "cell_type": "code",
      "metadata": {
        "id": "HEzXPhZgb9P-",
        "colab_type": "code",
        "outputId": "ea572192-402a-449a-e66f-a1f305669e5e",
        "colab": {
          "base_uri": "https://localhost:8080/",
          "height": 34
        }
      },
      "source": [
        "norm_trainloader = torch.utils.data.DataLoader(trainset, batch_size=32, shuffle=True, num_workers=4)\n",
        "norm_testloader = torch.utils.data.DataLoader(testset, batch_size=32, shuffle=False, num_workers=4)\n",
        "net = Net()\n",
        "nn.init.uniform_(net.conv1.weight,-2.0, 2.0)\n",
        "nn.init.uniform_(net.conv2.weight, -1.0,1.0)\n",
        "nn.init.xavier_uniform_(net.fc3.weight, gain=nn.init.calculate_gain('relu'))\n",
        "print('Init finished')"
      ],
      "execution_count": 131,
      "outputs": [
        {
          "output_type": "stream",
          "text": [
            "Init finished\n"
          ],
          "name": "stdout"
        }
      ]
    },
    {
      "cell_type": "code",
      "metadata": {
        "id": "ntf-4pdGciox",
        "colab_type": "code",
        "colab": {}
      },
      "source": [
        "criterion = nn.CrossEntropyLoss()\n",
        "optimizer = optim.SGD(net.parameters(), lr=0.001, momentum=0.9)\n",
        "nlr_loss_vals = list()"
      ],
      "execution_count": 0,
      "outputs": []
    },
    {
      "cell_type": "code",
      "metadata": {
        "id": "lu4RQsG-dBUy",
        "colab_type": "code",
        "outputId": "a30c83cd-54f5-4efb-cc08-e9518bb7dd59",
        "colab": {
          "base_uri": "https://localhost:8080/",
          "height": 52
        }
      },
      "source": [
        "start = time.time()\n",
        "for epoch in range(5):\n",
        "\n",
        "    running_loss = 0.0\n",
        "    for i, data in enumerate(norm_trainloader, 0):\n",
        "        # get the inputs\n",
        "        inputs, labels = data\n",
        "\n",
        "        # zero the parameter gradients\n",
        "        optimizer.zero_grad()\n",
        "\n",
        "        # forward + backward + optimize\n",
        "        outputs = net(inputs)\n",
        "        loss = criterion(outputs, labels)\n",
        "        loss.backward()\n",
        "        optimizer.step()\n",
        "        nlr_loss_vals.append(loss.item())\n",
        "        \n",
        "\n",
        "end = time.time()\n",
        "print('Finished Training')\n",
        "print('Tarining Duration: ', end - start)"
      ],
      "execution_count": 133,
      "outputs": [
        {
          "output_type": "stream",
          "text": [
            "Finished Training\n",
            "Tarining Duration:  131.13981127738953\n"
          ],
          "name": "stdout"
        }
      ]
    },
    {
      "cell_type": "code",
      "metadata": {
        "id": "JcpbObmbdKS9",
        "colab_type": "code",
        "outputId": "19e850ef-6891-4bca-c30d-0ac8196fb5fb",
        "colab": {
          "base_uri": "https://localhost:8080/",
          "height": 34
        }
      },
      "source": [
        "correct = 0\n",
        "total = 0\n",
        "with torch.no_grad():\n",
        "    for data in norm_testloader:\n",
        "        images, labels = data\n",
        "        outputs = net(images)\n",
        "        _, predicted = torch.max(outputs.data, 1)\n",
        "        total += labels.size(0)\n",
        "        correct += (predicted == labels).sum().item()\n",
        "\n",
        "print('Accuracy of the network on the 10000 test images: %d %%' % (\n",
        "    100 * correct / total))"
      ],
      "execution_count": 134,
      "outputs": [
        {
          "output_type": "stream",
          "text": [
            "Accuracy of the network on the 10000 test images: 50 %\n"
          ],
          "name": "stdout"
        }
      ]
    },
    {
      "cell_type": "code",
      "metadata": {
        "colab_type": "code",
        "outputId": "06d44db1-9e72-4a3c-abe0-9c9c13398a62",
        "id": "AHmXDFbvgCoP",
        "colab": {
          "base_uri": "https://localhost:8080/",
          "height": 313
        }
      },
      "source": [
        "x = np.array([n for n in range(0, len(nlr_loss_vals))])\n",
        "plt.plot(x, nlr_loss_vals)\n",
        "plt.title(r'Loss value after processing each batch') \n",
        "plt.xlabel('passed batches') \n",
        "plt.ylabel('loss value') \n",
        "plt.grid() \n",
        "plt.show() \n",
        "print(len(nlr_loss_vals))"
      ],
      "execution_count": 135,
      "outputs": [
        {
          "output_type": "display_data",
          "data": {
            "image/png": "[encoded data removed]",
            "text/plain": [
              "<Figure size 432x288 with 1 Axes>"
            ]
          },
          "metadata": {
            "tags": []
          }
        },
        {
          "output_type": "stream",
          "text": [
            "7815\n"
          ],
          "name": "stdout"
        }
      ]
    },
    {
      "cell_type": "code",
      "metadata": {
        "colab_type": "code",
        "outputId": "b3a947ec-791c-456d-c32c-63be6b0d2efd",
        "id": "-nmAC97wgCoV",
        "colab": {
          "base_uri": "https://localhost:8080/",
          "height": 897
        }
      },
      "source": [
        "for i in range(0,50):\n",
        "  print(i, ' batches passed and loss value is: ', nlr_loss_vals[i])"
      ],
      "execution_count": 136,
      "outputs": [
        {
          "output_type": "stream",
          "text": [
            "0  batches passed and loss value is:  14.670442581176758\n",
            "1  batches passed and loss value is:  13.655631065368652\n",
            "2  batches passed and loss value is:  9.33906364440918\n",
            "3  batches passed and loss value is:  8.15156364440918\n",
            "4  batches passed and loss value is:  8.67447566986084\n",
            "5  batches passed and loss value is:  11.317806243896484\n",
            "6  batches passed and loss value is:  10.928202629089355\n",
            "7  batches passed and loss value is:  9.981711387634277\n",
            "8  batches passed and loss value is:  10.298108100891113\n",
            "9  batches passed and loss value is:  10.432217597961426\n",
            "10  batches passed and loss value is:  8.856528282165527\n",
            "11  batches passed and loss value is:  6.636811256408691\n",
            "12  batches passed and loss value is:  5.758289337158203\n",
            "13  batches passed and loss value is:  4.958262920379639\n",
            "14  batches passed and loss value is:  7.158292770385742\n",
            "15  batches passed and loss value is:  6.791218280792236\n",
            "16  batches passed and loss value is:  7.46943473815918\n",
            "17  batches passed and loss value is:  5.055109977722168\n",
            "18  batches passed and loss value is:  4.143660545349121\n",
            "19  batches passed and loss value is:  3.876622438430786\n",
            "20  batches passed and loss value is:  3.25921630859375\n",
            "21  batches passed and loss value is:  3.454404354095459\n",
            "22  batches passed and loss value is:  3.144972324371338\n",
            "23  batches passed and loss value is:  2.697707176208496\n",
            "24  batches passed and loss value is:  4.513702392578125\n",
            "25  batches passed and loss value is:  3.9691922664642334\n",
            "26  batches passed and loss value is:  3.6064846515655518\n",
            "27  batches passed and loss value is:  3.565833568572998\n",
            "28  batches passed and loss value is:  2.7363803386688232\n",
            "29  batches passed and loss value is:  3.192197561264038\n",
            "30  batches passed and loss value is:  2.8083815574645996\n",
            "31  batches passed and loss value is:  2.9980385303497314\n",
            "32  batches passed and loss value is:  2.8495662212371826\n",
            "33  batches passed and loss value is:  2.909428119659424\n",
            "34  batches passed and loss value is:  2.992434024810791\n",
            "35  batches passed and loss value is:  3.3162806034088135\n",
            "36  batches passed and loss value is:  3.0253145694732666\n",
            "37  batches passed and loss value is:  2.846987724304199\n",
            "38  batches passed and loss value is:  2.52453351020813\n",
            "39  batches passed and loss value is:  2.7244725227355957\n",
            "40  batches passed and loss value is:  2.4344334602355957\n",
            "41  batches passed and loss value is:  2.198871374130249\n",
            "42  batches passed and loss value is:  2.423048973083496\n",
            "43  batches passed and loss value is:  2.755544662475586\n",
            "44  batches passed and loss value is:  2.5724246501922607\n",
            "45  batches passed and loss value is:  3.0420923233032227\n",
            "46  batches passed and loss value is:  2.298811674118042\n",
            "47  batches passed and loss value is:  2.331530809402466\n",
            "48  batches passed and loss value is:  2.5693604946136475\n",
            "49  batches passed and loss value is:  2.5385003089904785\n"
          ],
          "name": "stdout"
        }
      ]
    },
    {
      "cell_type": "markdown",
      "metadata": {
        "colab_type": "text",
        "id": "NOvd36B3gCoY"
      },
      "source": [
        "So if we ignore first fifty loss values we will see rest of plot more accuratly."
      ]
    },
    {
      "cell_type": "code",
      "metadata": {
        "colab_type": "code",
        "outputId": "1d2bd369-132f-4312-d009-be440181e71f",
        "id": "sWfI5zk9gCoY",
        "colab": {
          "base_uri": "https://localhost:8080/",
          "height": 295
        }
      },
      "source": [
        "plt.plot(x[50:], nlr_loss_vals[50:])\n",
        "plt.title(r'Loss value after processing each batch') \n",
        "plt.xlabel('passed batches') \n",
        "plt.ylabel('loss value') \n",
        "plt.grid() \n",
        "plt.show() "
      ],
      "execution_count": 137,
      "outputs": [
        {
          "output_type": "display_data",
          "data": {
            "image/png": "[encoded data removed]",
            "text/plain": [
              "<Figure size 432x288 with 1 Axes>"
            ]
          },
          "metadata": {
            "tags": []
          }
        }
      ]
    },
    {
      "cell_type": "markdown",
      "metadata": {
        "id": "6jrMUK6pb-V4",
        "colab_type": "text"
      },
      "source": [
        "### Slow Learning Rate"
      ]
    },
    {
      "cell_type": "code",
      "metadata": {
        "id": "ROd-cnKfcCs2",
        "colab_type": "code",
        "outputId": "e38c746a-15e9-42fe-bdcd-dbafed20ffee",
        "colab": {
          "base_uri": "https://localhost:8080/",
          "height": 34
        }
      },
      "source": [
        "norm_trainloader = torch.utils.data.DataLoader(trainset, batch_size=32, shuffle=True, num_workers=4)\n",
        "norm_testloader = torch.utils.data.DataLoader(testset, batch_size=32, shuffle=False, num_workers=4)\n",
        "net = Net()\n",
        "nn.init.uniform_(net.conv1.weight,-2.0, 2.0)\n",
        "nn.init.uniform_(net.conv2.weight, -1.0,1.0)\n",
        "nn.init.xavier_uniform_(net.fc3.weight, gain=nn.init.calculate_gain('relu'))\n",
        "print('Init finished')"
      ],
      "execution_count": 0,
      "outputs": [
        {
          "output_type": "stream",
          "text": [
            "Init finished\n"
          ],
          "name": "stdout"
        }
      ]
    },
    {
      "cell_type": "code",
      "metadata": {
        "id": "vxtWZp_KctB2",
        "colab_type": "code",
        "colab": {}
      },
      "source": [
        "criterion = nn.CrossEntropyLoss()\n",
        "optimizer = optim.SGD(net.parameters(), lr=0.00001, momentum=0.9)\n",
        "slr_loss_vals = list()"
      ],
      "execution_count": 0,
      "outputs": []
    },
    {
      "cell_type": "code",
      "metadata": {
        "id": "i5HMoUWzdEAq",
        "colab_type": "code",
        "outputId": "218d4a3f-7b61-4a08-97ab-1c0054f72a15",
        "colab": {
          "base_uri": "https://localhost:8080/",
          "height": 52
        }
      },
      "source": [
        "start = time.time()\n",
        "for epoch in range(5):\n",
        "\n",
        "    running_loss = 0.0\n",
        "    for i, data in enumerate(norm_trainloader, 0):\n",
        "        # get the inputs\n",
        "        inputs, labels = data\n",
        "\n",
        "        # zero the parameter gradients\n",
        "        optimizer.zero_grad()\n",
        "\n",
        "        # forward + backward + optimize\n",
        "        outputs = net(inputs)\n",
        "        loss = criterion(outputs, labels)\n",
        "        loss.backward()\n",
        "        optimizer.step()\n",
        "        slr_loss_vals.append(loss.item())\n",
        "\n",
        "end = time.time()\n",
        "print('Finished Training')\n",
        "print('Tarining Duration: ', end - start)"
      ],
      "execution_count": 0,
      "outputs": [
        {
          "output_type": "stream",
          "text": [
            "Finished Training\n",
            "Tarining Duration:  140.54821228981018\n"
          ],
          "name": "stdout"
        }
      ]
    },
    {
      "cell_type": "code",
      "metadata": {
        "id": "yxLCfU5TdLAA",
        "colab_type": "code",
        "outputId": "3c79052a-7980-42fc-c4a6-5fce7079eec1",
        "colab": {
          "base_uri": "https://localhost:8080/",
          "height": 34
        }
      },
      "source": [
        "correct = 0\n",
        "total = 0\n",
        "with torch.no_grad():\n",
        "    for data in norm_testloader:\n",
        "        images, labels = data\n",
        "        outputs = net(images)\n",
        "        _, predicted = torch.max(outputs.data, 1)\n",
        "        total += labels.size(0)\n",
        "        correct += (predicted == labels).sum().item()\n",
        "\n",
        "print('Accuracy of the network on the 10000 test images: %d %%' % (\n",
        "    100 * correct / total))"
      ],
      "execution_count": 0,
      "outputs": [
        {
          "output_type": "stream",
          "text": [
            "Accuracy of the network on the 10000 test images: 33 %\n"
          ],
          "name": "stdout"
        }
      ]
    },
    {
      "cell_type": "code",
      "metadata": {
        "colab_type": "code",
        "outputId": "218857c4-e782-4ee7-90f4-74460f7d48d5",
        "id": "iijrpMjUct4c",
        "colab": {
          "base_uri": "https://localhost:8080/",
          "height": 295
        }
      },
      "source": [
        "x = np.array([n for n in range(0, len(hlr_loss_vals))])\n",
        "plt.plot(x, slr_loss_vals)\n",
        "plt.title(r'Loss value after processing each batch') \n",
        "plt.xlabel('passed batches') \n",
        "plt.ylabel('loss value') \n",
        "plt.grid() \n",
        "plt.show() \n"
      ],
      "execution_count": 0,
      "outputs": [
        {
          "output_type": "display_data",
          "data": {
            "image/png": "[encoded data removed]",
            "text/plain": [
              "<Figure size 432x288 with 1 Axes>"
            ]
          },
          "metadata": {
            "tags": []
          }
        }
      ]
    },
    {
      "cell_type": "markdown",
      "metadata": {
        "colab_type": "text",
        "id": "5kfXRllOknQY"
      },
      "source": [
        "So if we ignore first fifty loss values we will see rest of plot more accuratly."
      ]
    },
    {
      "cell_type": "code",
      "metadata": {
        "colab_type": "code",
        "outputId": "75f9f97c-41f3-4385-92ec-a060404cb16e",
        "id": "S0qvSFmTknQa",
        "colab": {
          "base_uri": "https://localhost:8080/",
          "height": 295
        }
      },
      "source": [
        "plt.plot(x[50:], slr_loss_vals[50:])\n",
        "plt.title(r'Loss value after processing each batch') \n",
        "plt.xlabel('passed batches') \n",
        "plt.ylabel('loss value') \n",
        "plt.grid() \n",
        "plt.show() "
      ],
      "execution_count": 0,
      "outputs": [
        {
          "output_type": "display_data",
          "data": {
            "image/png": "[encoded data removed]",
            "text/plain": [
              "<Figure size 432x288 with 1 Axes>"
            ]
          },
          "metadata": {
            "tags": []
          }
        }
      ]
    },
    {
      "cell_type": "markdown",
      "metadata": {
        "id": "kgzqx3hOSJ81",
        "colab_type": "text"
      },
      "source": [
        "### Discussion\n",
        "Learning rate is a hyper-parameter that controls how much we are adjusting the weights of our network with respect the loss gradient.\n",
        "\n",
        "The usual formula of updating weights is:\n",
        "\n",
        "\n",
        "```\n",
        "new_weight = current_weights - learning_rate * gradient\n",
        "```\n",
        "\n",
        "So the lower the value, the slower we travel along the downward slope and it's more accurate, but it may take long time to converge. See following picture.\n",
        "![converge to local minima](https://cdn-images-1.medium.com/max/1600/0*00BrbBeDrFOjocpK.)\n",
        "\n",
        "The best way is by training the model initially with a very low learning rate and increasing it at each iteration.\n",
        "\n",
        "Let's try it."
      ]
    },
    {
      "cell_type": "code",
      "metadata": {
        "colab_type": "code",
        "outputId": "5ea06cfc-c117-4b75-d4c4-4bdaf13e3e5b",
        "id": "zVmssiW5VgQa",
        "colab": {
          "base_uri": "https://localhost:8080/",
          "height": 34
        }
      },
      "source": [
        "norm_trainloader = torch.utils.data.DataLoader(trainset, batch_size=32, shuffle=True, num_workers=4)\n",
        "norm_testloader = torch.utils.data.DataLoader(testset, batch_size=32, shuffle=False, num_workers=4)\n",
        "net = Net()\n",
        "nn.init.uniform_(net.conv1.weight,-2.0, 2.0)\n",
        "nn.init.uniform_(net.conv2.weight, -1.0,1.0)\n",
        "nn.init.xavier_uniform_(net.fc3.weight, gain=nn.init.calculate_gain('relu'))\n",
        "print('Init finished')"
      ],
      "execution_count": 0,
      "outputs": [
        {
          "output_type": "stream",
          "text": [
            "Init finished\n"
          ],
          "name": "stdout"
        }
      ]
    },
    {
      "cell_type": "code",
      "metadata": {
        "colab_type": "code",
        "id": "F0j48iqiVgQh",
        "colab": {}
      },
      "source": [
        "criterion = nn.CrossEntropyLoss()\n",
        "lr = np.linspace(0.001, 1, 9000)\n",
        "ilr_loss_vals = list()"
      ],
      "execution_count": 0,
      "outputs": []
    },
    {
      "cell_type": "code",
      "metadata": {
        "colab_type": "code",
        "outputId": "c631193a-fdf2-4131-8760-7bc0f9461341",
        "id": "fXzJJGSJVgQl",
        "colab": {
          "base_uri": "https://localhost:8080/",
          "height": 52
        }
      },
      "source": [
        "start = time.time()\n",
        "for epoch in range(5):\n",
        "    k = 0\n",
        "    running_loss = 0.0\n",
        "    for i, data in enumerate(norm_trainloader, 0):\n",
        "        \n",
        "        inputs, labels = data\n",
        "        optimizer = optim.SGD(net.parameters(), lr=lr[k], momentum=0.9)\n",
        "        # zero the parameter gradients\n",
        "        optimizer.zero_grad()\n",
        "\n",
        "        # forward + backward + optimize\n",
        "        outputs = net(inputs)\n",
        "        loss = criterion(outputs, labels)\n",
        "        loss.backward()\n",
        "        optimizer.step()\n",
        "        ilr_loss_vals.append(loss.item())\n",
        "        k+=1\n",
        "\n",
        "end = time.time()\n",
        "print('Finished Training')\n",
        "print('Tarining Duration: ', end - start)"
      ],
      "execution_count": 0,
      "outputs": [
        {
          "output_type": "stream",
          "text": [
            "Finished Training\n",
            "Tarining Duration:  358.9672122001648\n"
          ],
          "name": "stdout"
        }
      ]
    },
    {
      "cell_type": "code",
      "metadata": {
        "colab_type": "code",
        "outputId": "2996cc37-0bec-4c8a-b1d7-8312ea5dcac4",
        "id": "7v3wOZDHVgQo",
        "colab": {
          "base_uri": "https://localhost:8080/",
          "height": 34
        }
      },
      "source": [
        "correct = 0\n",
        "total = 0\n",
        "with torch.no_grad():\n",
        "    for data in norm_testloader:\n",
        "        images, labels = data\n",
        "        outputs = net(images)\n",
        "        _, predicted = torch.max(outputs.data, 1)\n",
        "        total += labels.size(0)\n",
        "        correct += (predicted == labels).sum().item()\n",
        "\n",
        "print('Accuracy of the network on the 10000 test images: %d %%' % (\n",
        "    100 * correct / total))"
      ],
      "execution_count": 0,
      "outputs": [
        {
          "output_type": "stream",
          "text": [
            "Accuracy of the network on the 10000 test images: 56 %\n"
          ],
          "name": "stdout"
        }
      ]
    },
    {
      "cell_type": "markdown",
      "metadata": {
        "id": "AZezv4KaiBhY",
        "colab_type": "text"
      },
      "source": [
        "As you can see the network is more accurate than the network which trained using normal value for learning rate."
      ]
    },
    {
      "cell_type": "code",
      "metadata": {
        "colab_type": "code",
        "outputId": "a88efc60-e3f5-4a25-a890-e28f8a5d4600",
        "id": "Hycl6JBcVgQq",
        "colab": {
          "base_uri": "https://localhost:8080/",
          "height": 295
        }
      },
      "source": [
        "x = np.array([n for n in range(0, len(hlr_loss_vals))])\n",
        "plt.plot(x, ilr_loss_vals)\n",
        "plt.title(r'Loss value after processing each batch') \n",
        "plt.xlabel('passed batches') \n",
        "plt.ylabel('loss value') \n",
        "plt.grid() \n",
        "plt.show() \n"
      ],
      "execution_count": 0,
      "outputs": [
        {
          "output_type": "display_data",
          "data": {
            "image/png": "[encoded data removed]",
            "text/plain": [
              "<Figure size 432x288 with 1 Axes>"
            ]
          },
          "metadata": {
            "tags": []
          }
        }
      ]
    },
    {
      "cell_type": "markdown",
      "metadata": {
        "colab_type": "text",
        "id": "rCRPRMrVVgQt"
      },
      "source": [
        "So if we ignore first fifty loss values we will see rest of plot more accuratly."
      ]
    },
    {
      "cell_type": "code",
      "metadata": {
        "colab_type": "code",
        "outputId": "ee3cfb3d-b3b0-40cc-abf5-b8e775b9eacf",
        "id": "w5iqxtbWVgQt",
        "colab": {
          "base_uri": "https://localhost:8080/",
          "height": 295
        }
      },
      "source": [
        "plt.plot(x[50:], ilr_loss_vals[50:])\n",
        "plt.title(r'Loss value after processing each batch') \n",
        "plt.xlabel('passed batches') \n",
        "plt.ylabel('loss value') \n",
        "plt.grid() \n",
        "plt.show() "
      ],
      "execution_count": 0,
      "outputs": [
        {
          "output_type": "display_data",
          "data": {
            "image/png": "[encoded data removed]",
            "text/plain": [
              "<Figure size 432x288 with 1 Axes>"
            ]
          },
          "metadata": {
            "tags": []
          }
        }
      ]
    },
    {
      "cell_type": "markdown",
      "metadata": {
        "id": "-zD_CvF5YneS",
        "colab_type": "text"
      },
      "source": [
        "## 5.\n"
      ]
    },
    {
      "cell_type": "markdown",
      "metadata": {
        "id": "m68holE5kykM",
        "colab_type": "text"
      },
      "source": [
        "### Set Batch Size to 64"
      ]
    },
    {
      "cell_type": "code",
      "metadata": {
        "colab_type": "code",
        "outputId": "c2ba2c69-b4fd-44ae-908e-1ea570c6781b",
        "id": "KihXpirplFPf",
        "colab": {
          "base_uri": "https://localhost:8080/",
          "height": 52
        }
      },
      "source": [
        "transform = transforms.Compose(\n",
        "    [transforms.ToTensor(),\n",
        "     transforms.Normalize((0.5, 0.5, 0.5), (0.5, 0.5, 0.5))])\n",
        "\n",
        "norm_64_trainset = torchvision.datasets.CIFAR10(root='./data', train=True,\n",
        "                                        download=True, transform=transform)\n",
        "norm_64_trainloader = torch.utils.data.DataLoader(norm_trainset, batch_size=64,\n",
        "                                          shuffle=True, num_workers=4)\n",
        "\n",
        "norm_64_testset = torchvision.datasets.CIFAR10(root='./data', train=False,\n",
        "                                       download=True, transform=transform)\n",
        "norm_64_testloader = torch.utils.data.DataLoader(norm_testset, batch_size=64,\n",
        "                                         shuffle=False, num_workers=4)\n",
        "\n",
        "classes = ('plane', 'car', 'bird', 'cat',\n",
        "           'deer', 'dog', 'frog', 'horse', 'ship', 'truck')"
      ],
      "execution_count": 0,
      "outputs": [
        {
          "output_type": "stream",
          "text": [
            "Files already downloaded and verified\n",
            "Files already downloaded and verified\n"
          ],
          "name": "stdout"
        }
      ]
    },
    {
      "cell_type": "code",
      "metadata": {
        "colab_type": "code",
        "outputId": "ac5c10e1-9f0f-451c-8dfd-b9723df382dd",
        "id": "khH-lGZ6lqNP",
        "colab": {
          "base_uri": "https://localhost:8080/",
          "height": 34
        }
      },
      "source": [
        "net = Net()\n",
        "nn.init.uniform_(net.conv1.weight,-2.0, 2.0)\n",
        "nn.init.uniform_(net.conv2.weight, -1.0,1.0)\n",
        "nn.init.xavier_uniform_(net.fc3.weight, gain=nn.init.calculate_gain('relu'))\n",
        "print('Init finished')"
      ],
      "execution_count": 0,
      "outputs": [
        {
          "output_type": "stream",
          "text": [
            "Init finished\n"
          ],
          "name": "stdout"
        }
      ]
    },
    {
      "cell_type": "code",
      "metadata": {
        "colab_type": "code",
        "id": "kN6Jl_sulqNS",
        "colab": {}
      },
      "source": [
        "criterion = nn.CrossEntropyLoss()\n",
        "optimizer = optim.SGD(net.parameters(), lr=0.001, momentum=0.9)\n",
        "nlr_loss_vals = list()"
      ],
      "execution_count": 0,
      "outputs": []
    },
    {
      "cell_type": "code",
      "metadata": {
        "colab_type": "code",
        "outputId": "b2f6fe14-9b3e-480a-d0e8-92344863679a",
        "id": "_hmIYTEelqNT",
        "colab": {
          "base_uri": "https://localhost:8080/",
          "height": 52
        }
      },
      "source": [
        "start = time.time()\n",
        "for epoch in range(5):\n",
        "\n",
        "    running_loss = 0.0\n",
        "    for i, data in enumerate(norm_64_trainloader, 0):\n",
        "        # get the inputs\n",
        "        inputs, labels = data\n",
        "\n",
        "        # zero the parameter gradients\n",
        "        optimizer.zero_grad()\n",
        "\n",
        "        # forward + backward + optimize\n",
        "        outputs = net(inputs)\n",
        "        loss = criterion(outputs, labels)\n",
        "        loss.backward()\n",
        "        optimizer.step()\n",
        "        nlr_loss_vals.append(loss.item())\n",
        "        \n",
        "\n",
        "end = time.time()\n",
        "print('Finished Training')\n",
        "print('Tarining Duration: ', end - start, ' seconds')"
      ],
      "execution_count": 0,
      "outputs": [
        {
          "output_type": "stream",
          "text": [
            "Finished Training\n",
            "Tarining Duration:  123.81409502029419  seconds\n"
          ],
          "name": "stdout"
        }
      ]
    },
    {
      "cell_type": "code",
      "metadata": {
        "colab_type": "code",
        "outputId": "351f7516-546b-4672-8fd1-00d5b463d991",
        "id": "NWlnPtZqlqNW",
        "colab": {
          "base_uri": "https://localhost:8080/",
          "height": 34
        }
      },
      "source": [
        "correct = 0\n",
        "total = 0\n",
        "with torch.no_grad():\n",
        "    for data in norm_64_testloader:\n",
        "        images, labels = data\n",
        "        outputs = net(images)\n",
        "        _, predicted = torch.max(outputs.data, 1)\n",
        "        total += labels.size(0)\n",
        "        correct += (predicted == labels).sum().item()\n",
        "\n",
        "print('Accuracy of the network on the 10000 test images: %d %%' % (\n",
        "    100 * correct / total))"
      ],
      "execution_count": 0,
      "outputs": [
        {
          "output_type": "stream",
          "text": [
            "Accuracy of the network on the 10000 test images: 52 %\n"
          ],
          "name": "stdout"
        }
      ]
    },
    {
      "cell_type": "markdown",
      "metadata": {
        "id": "w2UQvGeHk5XW",
        "colab_type": "text"
      },
      "source": [
        "### Set Batch Size to 256"
      ]
    },
    {
      "cell_type": "code",
      "metadata": {
        "colab_type": "code",
        "outputId": "2ebe0376-9ee6-4d5b-bac8-b3fc55daa83c",
        "id": "rkmQlvPClFxH",
        "colab": {
          "base_uri": "https://localhost:8080/",
          "height": 52
        }
      },
      "source": [
        "transform = transforms.Compose(\n",
        "    [transforms.ToTensor(),\n",
        "     transforms.Normalize((0.5, 0.5, 0.5), (0.5, 0.5, 0.5))])\n",
        "\n",
        "norm_256_trainset = torchvision.datasets.CIFAR10(root='./data', train=True,\n",
        "                                        download=True, transform=transform)\n",
        "norm_256_trainloader = torch.utils.data.DataLoader(norm_trainset, batch_size=256,\n",
        "                                          shuffle=True, num_workers=4)\n",
        "\n",
        "norm_256_testset = torchvision.datasets.CIFAR10(root='./data', train=False,\n",
        "                                       download=True, transform=transform)\n",
        "norm_256_testloader = torch.utils.data.DataLoader(norm_testset, batch_size=256,\n",
        "                                         shuffle=False, num_workers=4)\n",
        "\n",
        "classes = ('plane', 'car', 'bird', 'cat',\n",
        "           'deer', 'dog', 'frog', 'horse', 'ship', 'truck')"
      ],
      "execution_count": 138,
      "outputs": [
        {
          "output_type": "stream",
          "text": [
            "Files already downloaded and verified\n",
            "Files already downloaded and verified\n"
          ],
          "name": "stdout"
        }
      ]
    },
    {
      "cell_type": "code",
      "metadata": {
        "colab_type": "code",
        "outputId": "51c302b4-ca11-4d60-fb73-e1b58234892d",
        "id": "LIL1iZkqlsRn",
        "colab": {
          "base_uri": "https://localhost:8080/",
          "height": 34
        }
      },
      "source": [
        "net = Net()\n",
        "nn.init.uniform_(net.conv1.weight,-2.0, 2.0)\n",
        "nn.init.uniform_(net.conv2.weight, -1.0,1.0)\n",
        "nn.init.xavier_uniform_(net.fc3.weight, gain=nn.init.calculate_gain('relu'))\n",
        "print('Init finished')"
      ],
      "execution_count": 139,
      "outputs": [
        {
          "output_type": "stream",
          "text": [
            "Init finished\n"
          ],
          "name": "stdout"
        }
      ]
    },
    {
      "cell_type": "code",
      "metadata": {
        "colab_type": "code",
        "id": "0R01M7z0lsRq",
        "colab": {}
      },
      "source": [
        "criterion = nn.CrossEntropyLoss()\n",
        "optimizer = optim.SGD(net.parameters(), lr=0.001, momentum=0.9)\n",
        "nlr_loss_vals = list()"
      ],
      "execution_count": 0,
      "outputs": []
    },
    {
      "cell_type": "code",
      "metadata": {
        "colab_type": "code",
        "outputId": "f27e86a4-5068-4031-f0f0-215cc19dce27",
        "id": "U7ClioFklsRs",
        "colab": {
          "base_uri": "https://localhost:8080/",
          "height": 52
        }
      },
      "source": [
        "start = time.time()\n",
        "for epoch in range(5):\n",
        "\n",
        "    running_loss = 0.0\n",
        "    for i, data in enumerate(norm_256_trainloader, 0):\n",
        "        # get the inputs\n",
        "        inputs, labels = data\n",
        "\n",
        "        # zero the parameter gradients\n",
        "        optimizer.zero_grad()\n",
        "\n",
        "        # forward + backward + optimize\n",
        "        outputs = net(inputs)\n",
        "        loss = criterion(outputs, labels)\n",
        "        loss.backward()\n",
        "        optimizer.step()\n",
        "        nlr_loss_vals.append(loss.item())\n",
        "        \n",
        "\n",
        "end = time.time()\n",
        "print('Finished Training')\n",
        "print('Tarining Duration: ', end - start, ' seconds')"
      ],
      "execution_count": 141,
      "outputs": [
        {
          "output_type": "stream",
          "text": [
            "Finished Training\n",
            "Tarining Duration:  122.2474570274353  seconds\n"
          ],
          "name": "stdout"
        }
      ]
    },
    {
      "cell_type": "code",
      "metadata": {
        "colab_type": "code",
        "outputId": "066502a7-32f8-456b-b4a0-026cd725a4bf",
        "id": "DYiqGs1klsRv",
        "colab": {
          "base_uri": "https://localhost:8080/",
          "height": 34
        }
      },
      "source": [
        "correct = 0\n",
        "total = 0\n",
        "with torch.no_grad():\n",
        "    for data in norm_256_testloader:\n",
        "        images, labels = data\n",
        "        outputs = net(images)\n",
        "        _, predicted = torch.max(outputs.data, 1)\n",
        "        total += labels.size(0)\n",
        "        correct += (predicted == labels).sum().item()\n",
        "\n",
        "print('Accuracy of the network on the 10000 test images: %d %%' % (\n",
        "    100 * correct / total))"
      ],
      "execution_count": 142,
      "outputs": [
        {
          "output_type": "stream",
          "text": [
            "Accuracy of the network on the 10000 test images: 44 %\n"
          ],
          "name": "stdout"
        }
      ]
    },
    {
      "cell_type": "markdown",
      "metadata": {
        "id": "ZeUsSXicnXC5",
        "colab_type": "text"
      },
      "source": [
        "When we increase the batch size accuracy reduced.\n",
        "\n",
        "So now let's check what will be happened if we increase learning rate."
      ]
    },
    {
      "cell_type": "code",
      "metadata": {
        "colab_type": "code",
        "outputId": "0d631641-2c8e-430a-81b1-8c7c03ca62c1",
        "id": "ooVJBGeinsEQ",
        "colab": {
          "base_uri": "https://localhost:8080/",
          "height": 34
        }
      },
      "source": [
        "norm_256_trainloader = torch.utils.data.DataLoader(norm_trainset, batch_size=256, shuffle=True, num_workers=4)\n",
        "norm_256_testloader = torch.utils.data.DataLoader(norm_testset, batch_size=256, shuffle=False, num_workers=4)\n",
        "net = Net()\n",
        "nn.init.uniform_(net.conv1.weight,-2.0, 2.0)\n",
        "nn.init.uniform_(net.conv2.weight, -1.0,1.0)\n",
        "nn.init.xavier_uniform_(net.fc3.weight, gain=nn.init.calculate_gain('relu'))\n",
        "print('Init finished')"
      ],
      "execution_count": 143,
      "outputs": [
        {
          "output_type": "stream",
          "text": [
            "Init finished\n"
          ],
          "name": "stdout"
        }
      ]
    },
    {
      "cell_type": "code",
      "metadata": {
        "colab_type": "code",
        "id": "bum4BqzhnsET",
        "colab": {}
      },
      "source": [
        "criterion = nn.CrossEntropyLoss()\n",
        "optimizer = optim.SGD(net.parameters(), lr=0.01, momentum=0.9)\n",
        "nlr_loss_vals = list()"
      ],
      "execution_count": 0,
      "outputs": []
    },
    {
      "cell_type": "code",
      "metadata": {
        "colab_type": "code",
        "outputId": "65051961-409c-414f-b75f-9d15440994b7",
        "id": "HfKfUaMdnsEV",
        "colab": {
          "base_uri": "https://localhost:8080/",
          "height": 52
        }
      },
      "source": [
        "start = time.time()\n",
        "for epoch in range(5):\n",
        "\n",
        "    running_loss = 0.0\n",
        "    for i, data in enumerate(norm_256_trainloader, 0):\n",
        "        # get the inputs\n",
        "        inputs, labels = data\n",
        "\n",
        "        # zero the parameter gradients\n",
        "        optimizer.zero_grad()\n",
        "\n",
        "        # forward + backward + optimize\n",
        "        outputs = net(inputs)\n",
        "        loss = criterion(outputs, labels)\n",
        "        loss.backward()\n",
        "        optimizer.step()\n",
        "        nlr_loss_vals.append(loss.item())\n",
        "        \n",
        "\n",
        "end = time.time()\n",
        "print('Finished Training')\n",
        "print('Tarining Duration: ', end - start, ' seconds')"
      ],
      "execution_count": 145,
      "outputs": [
        {
          "output_type": "stream",
          "text": [
            "Finished Training\n",
            "Tarining Duration:  121.27707171440125  seconds\n"
          ],
          "name": "stdout"
        }
      ]
    },
    {
      "cell_type": "code",
      "metadata": {
        "colab_type": "code",
        "outputId": "6ec61792-cbb6-45a9-d50b-36890619fec3",
        "id": "3hCuRIPTnsEX",
        "colab": {
          "base_uri": "https://localhost:8080/",
          "height": 34
        }
      },
      "source": [
        "correct = 0\n",
        "total = 0\n",
        "with torch.no_grad():\n",
        "    for data in norm_256_testloader:\n",
        "        images, labels = data\n",
        "        outputs = net(images)\n",
        "        _, predicted = torch.max(outputs.data, 1)\n",
        "        total += labels.size(0)\n",
        "        correct += (predicted == labels).sum().item()\n",
        "\n",
        "print('Accuracy of the network on the 10000 test images: %d %%' % (\n",
        "    100 * correct / total))"
      ],
      "execution_count": 146,
      "outputs": [
        {
          "output_type": "stream",
          "text": [
            "Accuracy of the network on the 10000 test images: 37 %\n"
          ],
          "name": "stdout"
        }
      ]
    },
    {
      "cell_type": "markdown",
      "metadata": {
        "id": "8ZKshRfyn6tB",
        "colab_type": "text"
      },
      "source": [
        "And let's check what happenes if we decrease learning rate value."
      ]
    },
    {
      "cell_type": "code",
      "metadata": {
        "colab_type": "code",
        "outputId": "54382be6-f040-48a7-b66f-32ef0699a348",
        "id": "_uDAlCXZoEXg",
        "colab": {
          "base_uri": "https://localhost:8080/",
          "height": 34
        }
      },
      "source": [
        "norm_256_trainloader = torch.utils.data.DataLoader(norm_trainset, batch_size=256, shuffle=True, num_workers=4)\n",
        "norm_256_testloader = torch.utils.data.DataLoader(norm_testset, batch_size=256, shuffle=False, num_workers=4)\n",
        "net = Net()\n",
        "nn.init.uniform_(net.conv1.weight,-2.0, 2.0)\n",
        "nn.init.uniform_(net.conv2.weight, -1.0,1.0)\n",
        "nn.init.xavier_uniform_(net.fc3.weight, gain=nn.init.calculate_gain('relu'))\n",
        "print('Init finished')"
      ],
      "execution_count": 171,
      "outputs": [
        {
          "output_type": "stream",
          "text": [
            "Init finished\n"
          ],
          "name": "stdout"
        }
      ]
    },
    {
      "cell_type": "code",
      "metadata": {
        "colab_type": "code",
        "id": "hBMlc9PSoEXm",
        "colab": {}
      },
      "source": [
        "criterion = nn.CrossEntropyLoss()\n",
        "optimizer = optim.SGD(net.parameters(), lr=0.0001, momentum=0.9)\n",
        "nlr_loss_vals = list()"
      ],
      "execution_count": 0,
      "outputs": []
    },
    {
      "cell_type": "code",
      "metadata": {
        "colab_type": "code",
        "outputId": "f6053171-6920-4606-e652-e52c650a0ff9",
        "id": "ij3HlF5ZoEXn",
        "colab": {
          "base_uri": "https://localhost:8080/",
          "height": 52
        }
      },
      "source": [
        "start = time.time()\n",
        "for epoch in range(5):\n",
        "\n",
        "    running_loss = 0.0\n",
        "    for i, data in enumerate(norm_256_trainloader, 0):\n",
        "        # get the inputs\n",
        "        inputs, labels = data\n",
        "\n",
        "        # zero the parameter gradients\n",
        "        optimizer.zero_grad()\n",
        "\n",
        "        # forward + backward + optimize\n",
        "        outputs = net(inputs)\n",
        "        loss = criterion(outputs, labels)\n",
        "        loss.backward()\n",
        "        optimizer.step()\n",
        "        nlr_loss_vals.append(loss.item())\n",
        "        \n",
        "\n",
        "end = time.time()\n",
        "print('Finished Training')\n",
        "print('Tarining Duration: ', end - start, ' seconds')"
      ],
      "execution_count": 173,
      "outputs": [
        {
          "output_type": "stream",
          "text": [
            "Finished Training\n",
            "Tarining Duration:  355.7347331047058  seconds\n"
          ],
          "name": "stdout"
        }
      ]
    },
    {
      "cell_type": "code",
      "metadata": {
        "colab_type": "code",
        "outputId": "0b45068d-ad3d-4636-f0f6-5697d6934b06",
        "id": "ZNwIIUyJoEXr",
        "colab": {
          "base_uri": "https://localhost:8080/",
          "height": 34
        }
      },
      "source": [
        "correct = 0\n",
        "total = 0\n",
        "with torch.no_grad():\n",
        "    for data in norm_256_testloader:\n",
        "        images, labels = data\n",
        "        outputs = net(images)\n",
        "        _, predicted = torch.max(outputs.data, 1)\n",
        "        total += labels.size(0)\n",
        "        correct += (predicted == labels).sum().item()\n",
        "\n",
        "print('Accuracy of the network on the 10000 test images: %d %%' % (\n",
        "    100 * correct / total))"
      ],
      "execution_count": 174,
      "outputs": [
        {
          "output_type": "stream",
          "text": [
            "Accuracy of the network on the 10000 test images: 32 %\n"
          ],
          "name": "stdout"
        }
      ]
    },
    {
      "cell_type": "markdown",
      "metadata": {
        "id": "Q_EWYHqOZLqN",
        "colab_type": "text"
      },
      "source": [
        "### Discussion\n",
        "When we increase the batch size we must reduce the learning rate. This must happen to keep variance in the gradient expectation constant. But if we reduce learning rate too much, the accuracy will decrease. \n",
        "There is a trade off between size of batched data and learning rate."
      ]
    },
    {
      "cell_type": "markdown",
      "metadata": {
        "id": "7GVSjXrGLybh",
        "colab_type": "text"
      },
      "source": [
        "## 6."
      ]
    },
    {
      "cell_type": "markdown",
      "metadata": {
        "id": "cjt4F30sMJUm",
        "colab_type": "text"
      },
      "source": [
        "### Use \"tanh\" As An Activation Function"
      ]
    },
    {
      "cell_type": "code",
      "metadata": {
        "id": "3GgQCsODLzjb",
        "colab_type": "code",
        "colab": {}
      },
      "source": [
        "class Net(nn.Module):\n",
        "\n",
        "    def __init__(self):\n",
        "        super(Net, self).__init__()\n",
        "        self.conv1 = nn.Conv2d(3, 12, 3)\n",
        "        self.conv2 = nn.Conv2d(12, 26, 3)\n",
        "        self.fc3 = nn.Linear(26*6*6, 10)\n",
        "\n",
        "    def forward(self, x):\n",
        "        x = F.max_pool2d(F.tanh(self.conv1(x)), (2, 2))\n",
        "        x = F.max_pool2d(F.tanh(self.conv2(x)), 2)\n",
        "        x = x.view(-1, self.num_flat_features(x))\n",
        "        x = self.fc3(x)\n",
        "        return x\n",
        "\n",
        "    def num_flat_features(self, x):\n",
        "        size = x.size()[1:]  # all dimensions except the batch dimension\n",
        "        num_features = 1\n",
        "        for s in size:\n",
        "            num_features *= s\n",
        "        return num_features"
      ],
      "execution_count": 0,
      "outputs": []
    },
    {
      "cell_type": "code",
      "metadata": {
        "colab_type": "code",
        "outputId": "f6056c41-26fe-41ce-f222-8f775b94b826",
        "id": "-MhhZYm9N8rM",
        "colab": {
          "base_uri": "https://localhost:8080/",
          "height": 34
        }
      },
      "source": [
        "norm_trainloader = torch.utils.data.DataLoader(trainset, batch_size=32, shuffle=True, num_workers=4)\n",
        "norm_testloader = torch.utils.data.DataLoader(testset, batch_size=32, shuffle=False, num_workers=4)\n",
        "net = Net()\n",
        "nn.init.uniform_(net.conv1.weight,-2.0, 2.0)\n",
        "nn.init.uniform_(net.conv2.weight, -1.0,1.0)\n",
        "nn.init.xavier_uniform_(net.fc3.weight, gain=nn.init.calculate_gain('relu'))\n",
        "print('Init finished')"
      ],
      "execution_count": 152,
      "outputs": [
        {
          "output_type": "stream",
          "text": [
            "Init finished\n"
          ],
          "name": "stdout"
        }
      ]
    },
    {
      "cell_type": "code",
      "metadata": {
        "colab_type": "code",
        "id": "JIjaoUYyNtmE",
        "colab": {}
      },
      "source": [
        "criterion = nn.CrossEntropyLoss()\n",
        "optimizer = optim.SGD(net.parameters(), lr=0.001, momentum=0.9)"
      ],
      "execution_count": 0,
      "outputs": []
    },
    {
      "cell_type": "code",
      "metadata": {
        "colab_type": "code",
        "outputId": "cd491d22-c9b6-4e81-c814-7ffcd04b15cf",
        "id": "QZlE9ILYNtmH",
        "colab": {
          "base_uri": "https://localhost:8080/",
          "height": 87
        }
      },
      "source": [
        "start = time.time()\n",
        "for epoch in range(5):\n",
        "\n",
        "    running_loss = 0.0\n",
        "    for i, data in enumerate(norm_256_trainloader, 0):\n",
        "        # get the inputs\n",
        "        inputs, labels = data\n",
        "\n",
        "        # zero the parameter gradients\n",
        "        optimizer.zero_grad()\n",
        "\n",
        "        # forward + backward + optimize\n",
        "        outputs = net(inputs)\n",
        "        loss = criterion(outputs, labels)\n",
        "        loss.backward()\n",
        "        optimizer.step()        \n",
        "\n",
        "end = time.time()\n",
        "print('Finished Training')\n",
        "print('Tarining Duration: ', end - start, ' seconds')"
      ],
      "execution_count": 154,
      "outputs": [
        {
          "output_type": "stream",
          "text": [
            "/usr/local/lib/python3.6/dist-packages/torch/nn/functional.py:1374: UserWarning: nn.functional.tanh is deprecated. Use torch.tanh instead.\n",
            "  warnings.warn(\"nn.functional.tanh is deprecated. Use torch.tanh instead.\")\n"
          ],
          "name": "stderr"
        },
        {
          "output_type": "stream",
          "text": [
            "Finished Training\n",
            "Tarining Duration:  136.78870916366577  seconds\n"
          ],
          "name": "stdout"
        }
      ]
    },
    {
      "cell_type": "code",
      "metadata": {
        "colab_type": "code",
        "outputId": "32027d43-e0ec-40d9-b996-c8137004d370",
        "id": "0h29CaAZNtmL",
        "colab": {
          "base_uri": "https://localhost:8080/",
          "height": 70
        }
      },
      "source": [
        "correct = 0\n",
        "total = 0\n",
        "with torch.no_grad():\n",
        "    for data in norm_256_testloader:\n",
        "        images, labels = data\n",
        "        outputs = net(images)\n",
        "        _, predicted = torch.max(outputs.data, 1)\n",
        "        total += labels.size(0)\n",
        "        correct += (predicted == labels).sum().item()\n",
        "\n",
        "print('Accuracy of the network on the 10000 test images: %d %%' % (\n",
        "    100 * correct / total))"
      ],
      "execution_count": 155,
      "outputs": [
        {
          "output_type": "stream",
          "text": [
            "/usr/local/lib/python3.6/dist-packages/torch/nn/functional.py:1374: UserWarning: nn.functional.tanh is deprecated. Use torch.tanh instead.\n",
            "  warnings.warn(\"nn.functional.tanh is deprecated. Use torch.tanh instead.\")\n"
          ],
          "name": "stderr"
        },
        {
          "output_type": "stream",
          "text": [
            "Accuracy of the network on the 10000 test images: 38 %\n"
          ],
          "name": "stdout"
        }
      ]
    },
    {
      "cell_type": "markdown",
      "metadata": {
        "id": "KJ-79LfeMXFO",
        "colab_type": "text"
      },
      "source": [
        "### Use \"relu\" As An Activation Function"
      ]
    },
    {
      "cell_type": "code",
      "metadata": {
        "id": "1dfrTlgeNQff",
        "colab_type": "code",
        "colab": {}
      },
      "source": [
        "class Net(nn.Module):\n",
        "\n",
        "    def __init__(self):\n",
        "        super(Net, self).__init__()\n",
        "        self.conv1 = nn.Conv2d(3, 12, 3)\n",
        "        self.conv2 = nn.Conv2d(12, 26, 3)\n",
        "        self.fc3 = nn.Linear(26*6*6, 10)\n",
        "\n",
        "    def forward(self, x):\n",
        "        x = F.max_pool2d(F.relu(self.conv1(x)), (2, 2))\n",
        "        x = F.max_pool2d(F.relu(self.conv2(x)), 2)\n",
        "        x = x.view(-1, self.num_flat_features(x))\n",
        "        x = self.fc3(x)\n",
        "        return x\n",
        "\n",
        "    def num_flat_features(self, x):\n",
        "        size = x.size()[1:]  # all dimensions except the batch dimension\n",
        "        num_features = 1\n",
        "        for s in size:\n",
        "            num_features *= s\n",
        "        return num_features"
      ],
      "execution_count": 0,
      "outputs": []
    },
    {
      "cell_type": "code",
      "metadata": {
        "colab_type": "code",
        "outputId": "2b23448b-9b81-4f80-871f-dd624f08c1d0",
        "id": "y2EpPh9TN_nc",
        "colab": {
          "base_uri": "https://localhost:8080/",
          "height": 34
        }
      },
      "source": [
        "norm_trainloader = torch.utils.data.DataLoader(trainset, batch_size=32, shuffle=True, num_workers=4)\n",
        "norm_testloader = torch.utils.data.DataLoader(testset, batch_size=32, shuffle=False, num_workers=4)\n",
        "net = Net()\n",
        "nn.init.uniform_(net.conv1.weight,-2.0, 2.0)\n",
        "nn.init.uniform_(net.conv2.weight, -1.0,1.0)\n",
        "nn.init.xavier_uniform_(net.fc3.weight, gain=nn.init.calculate_gain('relu'))\n",
        "print('Init finished')"
      ],
      "execution_count": 176,
      "outputs": [
        {
          "output_type": "stream",
          "text": [
            "Init finished\n"
          ],
          "name": "stdout"
        }
      ]
    },
    {
      "cell_type": "code",
      "metadata": {
        "colab_type": "code",
        "id": "7RZiJFTPNu1k",
        "colab": {}
      },
      "source": [
        "criterion = nn.CrossEntropyLoss()\n",
        "optimizer = optim.SGD(net.parameters(), lr=0.001, momentum=0.9)"
      ],
      "execution_count": 0,
      "outputs": []
    },
    {
      "cell_type": "code",
      "metadata": {
        "colab_type": "code",
        "outputId": "8288bd38-543b-4a9b-c7c3-d0c88ca134d8",
        "id": "9G-qXeJ7Nu1l",
        "colab": {
          "base_uri": "https://localhost:8080/",
          "height": 52
        }
      },
      "source": [
        "start = time.time()\n",
        "for epoch in range(5):\n",
        "\n",
        "    running_loss = 0.0\n",
        "    for i, data in enumerate(norm_trainloader, 0):\n",
        "        # get the inputs\n",
        "        inputs, labels = data\n",
        "\n",
        "        # zero the parameter gradients\n",
        "        optimizer.zero_grad()\n",
        "\n",
        "        # forward + backward + optimize\n",
        "        outputs = net(inputs)\n",
        "        loss = criterion(outputs, labels)\n",
        "        loss.backward()\n",
        "        optimizer.step()        \n",
        "\n",
        "end = time.time()\n",
        "print('Finished Training')\n",
        "print('Tarining Duration: ', end - start, ' seconds')"
      ],
      "execution_count": 178,
      "outputs": [
        {
          "output_type": "stream",
          "text": [
            "Finished Training\n",
            "Tarining Duration:  132.4133665561676  seconds\n"
          ],
          "name": "stdout"
        }
      ]
    },
    {
      "cell_type": "code",
      "metadata": {
        "colab_type": "code",
        "outputId": "b94053a8-7ee6-4be8-e5cd-851199e72788",
        "id": "0tIJ7IeTNu1o",
        "colab": {
          "base_uri": "https://localhost:8080/",
          "height": 34
        }
      },
      "source": [
        "correct = 0\n",
        "total = 0\n",
        "with torch.no_grad():\n",
        "    for data in norm_testloader:\n",
        "        images, labels = data\n",
        "        outputs = net(images)\n",
        "        _, predicted = torch.max(outputs.data, 1)\n",
        "        total += labels.size(0)\n",
        "        correct += (predicted == labels).sum().item()\n",
        "\n",
        "print('Accuracy of the network on the 10000 test images: %d %%' % (\n",
        "    100 * correct / total))"
      ],
      "execution_count": 179,
      "outputs": [
        {
          "output_type": "stream",
          "text": [
            "Accuracy of the network on the 10000 test images: 52 %\n"
          ],
          "name": "stdout"
        }
      ]
    },
    {
      "cell_type": "markdown",
      "metadata": {
        "id": "KD01uTN6MaM2",
        "colab_type": "text"
      },
      "source": [
        "### Use \"leaky relu\" As An Activation Function"
      ]
    },
    {
      "cell_type": "code",
      "metadata": {
        "id": "fOeRO2RANTH1",
        "colab_type": "code",
        "colab": {}
      },
      "source": [
        "class Net(nn.Module):\n",
        "\n",
        "    def __init__(self):\n",
        "        super(Net, self).__init__()\n",
        "        self.conv1 = nn.Conv2d(3, 12, 3)\n",
        "        self.conv2 = nn.Conv2d(12, 26, 3)\n",
        "        self.fc3 = nn.Linear(26*6*6, 10)\n",
        "\n",
        "    def forward(self, x):\n",
        "        x = F.max_pool2d(F.leaky_relu(self.conv1(x)), (2, 2))\n",
        "        x = F.max_pool2d(F.leaky_relu(self.conv2(x)), 2)\n",
        "        x = x.view(-1, self.num_flat_features(x))\n",
        "        x = self.fc3(x)\n",
        "        return x\n",
        "\n",
        "    def num_flat_features(self, x):\n",
        "        size = x.size()[1:]  # all dimensions except the batch dimension\n",
        "        num_features = 1\n",
        "        for s in size:\n",
        "            num_features *= s\n",
        "        return num_features"
      ],
      "execution_count": 0,
      "outputs": []
    },
    {
      "cell_type": "code",
      "metadata": {
        "colab_type": "code",
        "outputId": "cfe565af-715f-4606-9e70-33267ec5cd3c",
        "id": "o2IMPSRFOBuD",
        "colab": {
          "base_uri": "https://localhost:8080/",
          "height": 34
        }
      },
      "source": [
        "norm_trainloader = torch.utils.data.DataLoader(trainset, batch_size=32, shuffle=True, num_workers=4)\n",
        "norm_testloader = torch.utils.data.DataLoader(testset, batch_size=32, shuffle=False, num_workers=4)\n",
        "net = Net()\n",
        "nn.init.uniform_(net.conv1.weight,-2.0, 2.0)\n",
        "nn.init.uniform_(net.conv2.weight, -1.0,1.0)\n",
        "nn.init.xavier_uniform_(net.fc3.weight, gain=nn.init.calculate_gain('relu'))\n",
        "print('Init finished')"
      ],
      "execution_count": 181,
      "outputs": [
        {
          "output_type": "stream",
          "text": [
            "Init finished\n"
          ],
          "name": "stdout"
        }
      ]
    },
    {
      "cell_type": "code",
      "metadata": {
        "colab_type": "code",
        "id": "6BPg_qIKNwwL",
        "colab": {}
      },
      "source": [
        "criterion = nn.CrossEntropyLoss()\n",
        "optimizer = optim.SGD(net.parameters(), lr=0.001, momentum=0.9)"
      ],
      "execution_count": 0,
      "outputs": []
    },
    {
      "cell_type": "code",
      "metadata": {
        "colab_type": "code",
        "outputId": "e2f9a4aa-1d3b-4158-d820-60cd91c2e5be",
        "id": "c-yrW98vNwwO",
        "colab": {
          "base_uri": "https://localhost:8080/",
          "height": 52
        }
      },
      "source": [
        "start = time.time()\n",
        "for epoch in range(5):\n",
        "\n",
        "    running_loss = 0.0\n",
        "    for i, data in enumerate(norm_trainloader, 0):\n",
        "        # get the inputs\n",
        "        inputs, labels = data\n",
        "\n",
        "        # zero the parameter gradients\n",
        "        optimizer.zero_grad()\n",
        "\n",
        "        # forward + backward + optimize\n",
        "        outputs = net(inputs)\n",
        "        loss = criterion(outputs, labels)\n",
        "        loss.backward()\n",
        "        optimizer.step()        \n",
        "\n",
        "end = time.time()\n",
        "print('Finished Training')\n",
        "print('Tarining Duration: ', end - start, ' seconds')"
      ],
      "execution_count": 183,
      "outputs": [
        {
          "output_type": "stream",
          "text": [
            "Finished Training\n",
            "Tarining Duration:  147.7651617527008  seconds\n"
          ],
          "name": "stdout"
        }
      ]
    },
    {
      "cell_type": "code",
      "metadata": {
        "colab_type": "code",
        "outputId": "add6c9c3-558e-459e-b6c8-e0d1a8581dc2",
        "id": "_0a6hq-oNwwR",
        "colab": {
          "base_uri": "https://localhost:8080/",
          "height": 34
        }
      },
      "source": [
        "correct = 0\n",
        "total = 0\n",
        "with torch.no_grad():\n",
        "    for data in norm_testloader:\n",
        "        images, labels = data\n",
        "        outputs = net(images)\n",
        "        _, predicted = torch.max(outputs.data, 1)\n",
        "        total += labels.size(0)\n",
        "        correct += (predicted == labels).sum().item()\n",
        "\n",
        "print('Accuracy of the network on the 10000 test images: %d %%' % (\n",
        "    100 * correct / total))"
      ],
      "execution_count": 184,
      "outputs": [
        {
          "output_type": "stream",
          "text": [
            "Accuracy of the network on the 10000 test images: 47 %\n"
          ],
          "name": "stdout"
        }
      ]
    },
    {
      "cell_type": "markdown",
      "metadata": {
        "id": "vp5KgCWRMe3D",
        "colab_type": "text"
      },
      "source": [
        "### Use \"softplus\" As An Activation Function"
      ]
    },
    {
      "cell_type": "code",
      "metadata": {
        "id": "OhYpVg3pNUqB",
        "colab_type": "code",
        "colab": {}
      },
      "source": [
        "class Net(nn.Module):\n",
        "\n",
        "    def __init__(self):\n",
        "        super(Net, self).__init__()\n",
        "        self.conv1 = nn.Conv2d(3, 12, 3)\n",
        "        self.conv2 = nn.Conv2d(12, 26, 3)\n",
        "        self.fc3 = nn.Linear(26*6*6, 10)\n",
        "\n",
        "    def forward(self, x):\n",
        "        x = F.max_pool2d(F.softplus(self.conv1(x)), (2, 2))\n",
        "        x = F.max_pool2d(F.softplus(self.conv2(x)), 2)\n",
        "        x = x.view(-1, self.num_flat_features(x))\n",
        "        x = self.fc3(x)\n",
        "        return x\n",
        "\n",
        "    def num_flat_features(self, x):\n",
        "        size = x.size()[1:]  # all dimensions except the batch dimension\n",
        "        num_features = 1\n",
        "        for s in size:\n",
        "            num_features *= s\n",
        "        return num_features"
      ],
      "execution_count": 0,
      "outputs": []
    },
    {
      "cell_type": "code",
      "metadata": {
        "id": "NlgeFYGSm3sO",
        "colab_type": "code",
        "colab": {
          "base_uri": "https://localhost:8080/",
          "height": 34
        },
        "outputId": "b2bfaae0-d62c-45ab-d642-04bc1c304547"
      },
      "source": [
        "norm_trainloader = torch.utils.data.DataLoader(trainset, batch_size=32, shuffle=True, num_workers=4)\n",
        "norm_testloader = torch.utils.data.DataLoader(testset, batch_size=32, shuffle=False, num_workers=4)\n",
        "net = Net()\n",
        "nn.init.uniform_(net.conv1.weight,-2.0, 2.0)\n",
        "nn.init.uniform_(net.conv2.weight, -1.0,1.0)\n",
        "nn.init.xavier_uniform_(net.fc3.weight, gain=nn.init.calculate_gain('relu'))\n",
        "print('Init finished')"
      ],
      "execution_count": 167,
      "outputs": [
        {
          "output_type": "stream",
          "text": [
            "Init finished\n"
          ],
          "name": "stdout"
        }
      ]
    },
    {
      "cell_type": "code",
      "metadata": {
        "colab_type": "code",
        "id": "NJGB6zOkNyRk",
        "colab": {}
      },
      "source": [
        "criterion = nn.CrossEntropyLoss()\n",
        "optimizer = optim.SGD(net.parameters(), lr=0.001, momentum=0.9)"
      ],
      "execution_count": 0,
      "outputs": []
    },
    {
      "cell_type": "code",
      "metadata": {
        "colab_type": "code",
        "outputId": "1c465641-8247-4499-bcdb-74645fb0911e",
        "id": "KVJlU3oONyRl",
        "colab": {
          "base_uri": "https://localhost:8080/",
          "height": 52
        }
      },
      "source": [
        "start = time.time()\n",
        "for epoch in range(5):\n",
        "\n",
        "    running_loss = 0.0\n",
        "    for i, data in enumerate(norm_256_trainloader, 0):\n",
        "        # get the inputs\n",
        "        inputs, labels = data\n",
        "\n",
        "        # zero the parameter gradients\n",
        "        optimizer.zero_grad()\n",
        "\n",
        "        # forward + backward + optimize\n",
        "        outputs = net(inputs)\n",
        "        loss = criterion(outputs, labels)\n",
        "        loss.backward()\n",
        "        optimizer.step()        \n",
        "\n",
        "end = time.time()\n",
        "print('Finished Training')\n",
        "print('Tarining Duration: ', end - start, ' seconds')"
      ],
      "execution_count": 169,
      "outputs": [
        {
          "output_type": "stream",
          "text": [
            "Finished Training\n",
            "Tarining Duration:  351.65156412124634  seconds\n"
          ],
          "name": "stdout"
        }
      ]
    },
    {
      "cell_type": "code",
      "metadata": {
        "colab_type": "code",
        "outputId": "1c860421-8f18-4cd8-974b-5568f1ad4e32",
        "id": "99BudZfwNyRo",
        "colab": {
          "base_uri": "https://localhost:8080/",
          "height": 34
        }
      },
      "source": [
        "correct = 0\n",
        "total = 0\n",
        "with torch.no_grad():\n",
        "    for data in norm_256_testloader:\n",
        "        images, labels = data\n",
        "        outputs = net(images)\n",
        "        _, predicted = torch.max(outputs.data, 1)\n",
        "        total += labels.size(0)\n",
        "        correct += (predicted == labels).sum().item()\n",
        "\n",
        "print('Accuracy of the network on the 10000 test images: %d %%' % (\n",
        "    100 * correct / total))"
      ],
      "execution_count": 170,
      "outputs": [
        {
          "output_type": "stream",
          "text": [
            "Accuracy of the network on the 10000 test images: 40 %\n"
          ],
          "name": "stdout"
        }
      ]
    },
    {
      "cell_type": "markdown",
      "metadata": {
        "id": "9CO4L03EZxfr",
        "colab_type": "text"
      },
      "source": [
        "### Discussion\n",
        "As you can see in [relu section](https://colab.research.google.com/drive/1aa6h7i9Z5FocPQLOJ6rpUpVOIpuOKDX_#scrollTo=0tIJ7IeTNu1o&line=5&uniqifier=1)\n",
        "we got most accurate network using **Relu** function.\n",
        "\n",
        "Relu makes the network more lighter than other activation functions because for each negetive value, neuron do not fire so we will have sparce activation. As it return the value for x greater than zero, impact of those neurons are more than the others in output of the network."
      ]
    },
    {
      "cell_type": "markdown",
      "metadata": {
        "id": "PoICmmyFL3Pe",
        "colab_type": "text"
      },
      "source": [
        "## 7."
      ]
    },
    {
      "cell_type": "markdown",
      "metadata": {
        "id": "IDVwQRb2eZqF",
        "colab_type": "text"
      },
      "source": [
        "### Using Momentum"
      ]
    },
    {
      "cell_type": "code",
      "metadata": {
        "colab_type": "code",
        "id": "DTbKH4CAaUD5",
        "colab": {}
      },
      "source": [
        "class Net(nn.Module):\n",
        "\n",
        "    def __init__(self):\n",
        "        super(Net, self).__init__()\n",
        "        self.conv1 = nn.Conv2d(3, 12, 3)\n",
        "        self.conv2 = nn.Conv2d(12, 26, 3)\n",
        "        self.fc3 = nn.Linear(26*6*6, 10)\n",
        "\n",
        "    def forward(self, x):\n",
        "        x = F.max_pool2d(F.relu(self.conv1(x)), (2, 2))\n",
        "        x = F.max_pool2d(F.relu(self.conv2(x)), 2)\n",
        "        x = x.view(-1, self.num_flat_features(x))\n",
        "        x = self.fc3(x)\n",
        "        return x\n",
        "\n",
        "    def num_flat_features(self, x):\n",
        "        size = x.size()[1:]  # all dimensions except the batch dimension\n",
        "        num_features = 1\n",
        "        for s in size:\n",
        "            num_features *= s\n",
        "        return num_features"
      ],
      "execution_count": 0,
      "outputs": []
    },
    {
      "cell_type": "code",
      "metadata": {
        "colab_type": "code",
        "outputId": "b73bfcbd-0aa6-4998-837f-1659845a5b07",
        "id": "RD-cOLGCaUD8",
        "colab": {
          "base_uri": "https://localhost:8080/",
          "height": 34
        }
      },
      "source": [
        "net = Net()\n",
        "nn.init.uniform_(net.conv1.weight,-2.0, 2.0)\n",
        "nn.init.uniform_(net.conv2.weight, -1.0,1.0)\n",
        "nn.init.xavier_uniform_(net.fc3.weight, gain=nn.init.calculate_gain('relu'))\n",
        "print('Init finished')"
      ],
      "execution_count": 0,
      "outputs": [
        {
          "output_type": "stream",
          "text": [
            "Init finished\n"
          ],
          "name": "stdout"
        }
      ]
    },
    {
      "cell_type": "code",
      "metadata": {
        "colab_type": "code",
        "id": "-BJsHctLaUEA",
        "colab": {}
      },
      "source": [
        "criterion = nn.CrossEntropyLoss()\n",
        "optimizer = optim.SGD(net.parameters(), lr=0.001, momentum=0.9)"
      ],
      "execution_count": 0,
      "outputs": []
    },
    {
      "cell_type": "code",
      "metadata": {
        "colab_type": "code",
        "outputId": "0ca100f7-35d4-42d0-f8a3-0e9b6b7f5812",
        "id": "MAMXCDbIaUEC",
        "colab": {
          "base_uri": "https://localhost:8080/",
          "height": 52
        }
      },
      "source": [
        "start = time.time()\n",
        "for epoch in range(5):\n",
        "\n",
        "    running_loss = 0.0\n",
        "    for i, data in enumerate(norm_256_trainloader, 0):\n",
        "        # get the inputs\n",
        "        inputs, labels = data\n",
        "\n",
        "        # zero the parameter gradients\n",
        "        optimizer.zero_grad()\n",
        "\n",
        "        # forward + backward + optimize\n",
        "        outputs = net(inputs)\n",
        "        loss = criterion(outputs, labels)\n",
        "        loss.backward()\n",
        "        optimizer.step()        \n",
        "\n",
        "end = time.time()\n",
        "print('Finished Training')\n",
        "print('Tarining Duration: ', end - start, ' seconds')"
      ],
      "execution_count": 0,
      "outputs": [
        {
          "output_type": "stream",
          "text": [
            "Finished Training\n",
            "Tarining Duration:  122.43198752403259  seconds\n"
          ],
          "name": "stdout"
        }
      ]
    },
    {
      "cell_type": "code",
      "metadata": {
        "colab_type": "code",
        "outputId": "87ad45a2-4880-496d-a483-d220e50a4a8c",
        "id": "ZDFLktXCaUEG",
        "colab": {
          "base_uri": "https://localhost:8080/",
          "height": 34
        }
      },
      "source": [
        "correct = 0\n",
        "total = 0\n",
        "with torch.no_grad():\n",
        "    for data in norm_256_testloader:\n",
        "        images, labels = data\n",
        "        outputs = net(images)\n",
        "        _, predicted = torch.max(outputs.data, 1)\n",
        "        total += labels.size(0)\n",
        "        correct += (predicted == labels).sum().item()\n",
        "\n",
        "print('Accuracy of the network on the 10000 test images: %d %%' % (\n",
        "    100 * correct / total))"
      ],
      "execution_count": 0,
      "outputs": [
        {
          "output_type": "stream",
          "text": [
            "Accuracy of the network on the 10000 test images: 45 %\n"
          ],
          "name": "stdout"
        }
      ]
    },
    {
      "cell_type": "markdown",
      "metadata": {
        "id": "e00rH8RqaXsF",
        "colab_type": "text"
      },
      "source": [
        "### Without Momentum"
      ]
    },
    {
      "cell_type": "code",
      "metadata": {
        "colab_type": "code",
        "id": "OrQsUWLCabRx",
        "colab": {}
      },
      "source": [
        "class Net(nn.Module):\n",
        "\n",
        "    def __init__(self):\n",
        "        super(Net, self).__init__()\n",
        "        self.conv1 = nn.Conv2d(3, 12, 3)\n",
        "        self.conv2 = nn.Conv2d(12, 26, 3)\n",
        "        self.fc3 = nn.Linear(26*6*6, 10)\n",
        "\n",
        "    def forward(self, x):\n",
        "        x = F.max_pool2d(F.relu(self.conv1(x)), (2, 2))\n",
        "        x = F.max_pool2d(F.relu(self.conv2(x)), 2)\n",
        "        x = x.view(-1, self.num_flat_features(x))\n",
        "        x = self.fc3(x)\n",
        "        return x\n",
        "\n",
        "    def num_flat_features(self, x):\n",
        "        size = x.size()[1:]  # all dimensions except the batch dimension\n",
        "        num_features = 1\n",
        "        for s in size:\n",
        "            num_features *= s\n",
        "        return num_features"
      ],
      "execution_count": 0,
      "outputs": []
    },
    {
      "cell_type": "code",
      "metadata": {
        "colab_type": "code",
        "outputId": "7887f85b-3d79-4ebf-fe93-b4696a42c961",
        "id": "cBreT_siabR2",
        "colab": {
          "base_uri": "https://localhost:8080/",
          "height": 34
        }
      },
      "source": [
        "net = Net()\n",
        "nn.init.uniform_(net.conv1.weight,-2.0, 2.0)\n",
        "nn.init.uniform_(net.conv2.weight, -1.0,1.0)\n",
        "nn.init.xavier_uniform_(net.fc3.weight, gain=nn.init.calculate_gain('relu'))\n",
        "print('Init finished')"
      ],
      "execution_count": 0,
      "outputs": [
        {
          "output_type": "stream",
          "text": [
            "Init finished\n"
          ],
          "name": "stdout"
        }
      ]
    },
    {
      "cell_type": "code",
      "metadata": {
        "colab_type": "code",
        "id": "elZvsetZabR6",
        "colab": {}
      },
      "source": [
        "criterion = nn.CrossEntropyLoss()\n",
        "optimizer = optim.SGD(net.parameters(), lr=0.001)"
      ],
      "execution_count": 0,
      "outputs": []
    },
    {
      "cell_type": "code",
      "metadata": {
        "colab_type": "code",
        "outputId": "987f174f-fde4-48b8-f41c-ef3d3cbae592",
        "id": "ceuP-7_VabR8",
        "colab": {
          "base_uri": "https://localhost:8080/",
          "height": 52
        }
      },
      "source": [
        "start = time.time()\n",
        "for epoch in range(5):\n",
        "\n",
        "    running_loss = 0.0\n",
        "    for i, data in enumerate(norm_256_trainloader, 0):\n",
        "        # get the inputs\n",
        "        inputs, labels = data\n",
        "\n",
        "        # zero the parameter gradients\n",
        "        optimizer.zero_grad()\n",
        "\n",
        "        # forward + backward + optimize\n",
        "        outputs = net(inputs)\n",
        "        loss = criterion(outputs, labels)\n",
        "        loss.backward()\n",
        "        optimizer.step()        \n",
        "\n",
        "end = time.time()\n",
        "print('Finished Training')\n",
        "print('Tarining Duration: ', end - start, ' seconds')"
      ],
      "execution_count": 0,
      "outputs": [
        {
          "output_type": "stream",
          "text": [
            "Finished Training\n",
            "Tarining Duration:  123.98249506950378  seconds\n"
          ],
          "name": "stdout"
        }
      ]
    },
    {
      "cell_type": "code",
      "metadata": {
        "colab_type": "code",
        "outputId": "d5858a02-fa12-443f-cee5-e343be886b17",
        "id": "CUeyVfbeabR-",
        "colab": {
          "base_uri": "https://localhost:8080/",
          "height": 34
        }
      },
      "source": [
        "correct = 0\n",
        "total = 0\n",
        "with torch.no_grad():\n",
        "    for data in norm_256_testloader:\n",
        "        images, labels = data\n",
        "        outputs = net(images)\n",
        "        _, predicted = torch.max(outputs.data, 1)\n",
        "        total += labels.size(0)\n",
        "        correct += (predicted == labels).sum().item()\n",
        "\n",
        "print('Accuracy of the network on the 10000 test images: %d %%' % (\n",
        "    100 * correct / total))"
      ],
      "execution_count": 0,
      "outputs": [
        {
          "output_type": "stream",
          "text": [
            "Accuracy of the network on the 10000 test images: 32 %\n"
          ],
          "name": "stdout"
        }
      ]
    },
    {
      "cell_type": "markdown",
      "metadata": {
        "id": "ImdUwrmbefcw",
        "colab_type": "text"
      },
      "source": [
        "### Discussion\n",
        "As you can see the network which uses SGD with momentum perform more accurate than the network which uses classic SGD.\n",
        "\n",
        "The reason is with SGD we don’t compute the exact derivate of our loss function. Instead, we’re estimating it on a small batch. Which means we’re not always going in the optimal direction, because our derivatives are **noisy**. So, exponentially weighed averages can provide us a better estimate which is closer to the actual derivate than our noisy calculations."
      ]
    }
  ]
}